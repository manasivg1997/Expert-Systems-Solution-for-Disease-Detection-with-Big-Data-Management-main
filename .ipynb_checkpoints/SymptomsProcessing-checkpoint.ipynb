{
  "nbformat": 4,
  "nbformat_minor": 0,
  "metadata": {
    "colab": {
      "name": "SymptomsProcessing.ipynb",
      "provenance": []
    },
    "kernelspec": {
      "name": "python3",
      "display_name": "Python 3"
    },
    "language_info": {
      "name": "python"
    }
  },
  "cells": [
    {
      "cell_type": "code",
      "execution_count": 2,
      "metadata": {
        "id": "lOXml-JnnIxi"
      },
      "outputs": [],
      "source": [
        "# Predicts diseases based on the symptoms entered and selected by the user.\n",
        "# importing all necessary libraries\n",
        "import warnings\n",
        "import numpy as np\n",
        "import pandas as pd\n",
        "from sklearn.metrics import accuracy_score, precision_recall_fscore_support\n",
        "from sklearn.model_selection import train_test_split, cross_val_score\n",
        "from statistics import mean\n",
        "from nltk.corpus import wordnet \n",
        "import requests\n",
        "from bs4 import BeautifulSoup\n",
        "from nltk.corpus import stopwords\n",
        "from nltk.stem import WordNetLemmatizer\n",
        "from nltk.tokenize import RegexpTokenizer\n",
        "from itertools import combinations\n",
        "from time import time\n",
        "from collections import Counter\n",
        "import operator\n",
        "from xgboost import XGBClassifier\n",
        "import math\n",
        "from treatment import diseaseDetail\n",
        "from sklearn.linear_model import LogisticRegression\n",
        "\n",
        "warnings.simplefilter(\"ignore\")"
      ]
    },
    {
      "cell_type": "markdown",
      "source": [
        "# New Section"
      ],
      "metadata": {
        "id": "rLo3fo4unZLG"
      }
    },
    {
      "cell_type": "code",
      "source": [
        "import nltk\n",
        "nltk.download('all')"
      ],
      "metadata": {
        "id": "ZWpeCY9XTMlG"
      },
      "execution_count": null,
      "outputs": []
    },
    {
      "cell_type": "code",
      "source": [
        "# returns the list of synonyms of the input word from thesaurus.com (https://www.thesaurus.com/) and wordnet (https://www.nltk.org/howto/wordnet.html)\n",
        "def synonyms(term):\n",
        "    synonyms = []\n",
        "    response = requests.get('https://www.thesaurus.com/browse/{}'.format(term))\n",
        "    soup = BeautifulSoup(response.content,  \"html.parser\")\n",
        "    try:\n",
        "        container=soup.find('section', {'class': 'MainContentContainer'}) \n",
        "        row=container.find('div',{'class':'css-191l5o0-ClassicContentCard'})\n",
        "        row = row.find_all('li')\n",
        "        for x in row:\n",
        "            synonyms.append(x.get_text())\n",
        "    except:\n",
        "        None\n",
        "    for syn in wordnet.synsets(term):\n",
        "        synonyms+=syn.lemma_names()\n",
        "    return set(synonyms)"
      ],
      "metadata": {
        "id": "6cfeViY3TQTU"
      },
      "execution_count": 4,
      "outputs": []
    },
    {
      "cell_type": "code",
      "source": [
        "# utlities for pre-processing\n",
        "stop_words = stopwords.words('english')\n",
        "lemmatizer = WordNetLemmatizer()\n",
        "splitter = RegexpTokenizer(r'\\w+')"
      ],
      "metadata": {
        "id": "OmnPlo3FTSrg"
      },
      "execution_count": 5,
      "outputs": []
    },
    {
      "cell_type": "code",
      "source": [
        "# Load Dataset scraped from NHP (https://www.nhp.gov.in/disease-a-z) & Wikipedia\n",
        "# Scrapping and creation of dataset csv is done in a separate program\n",
        "df_comb = pd.read_csv(\"./Disease_Symptom_Dataset_For_All_Symptom_Subsets.csv\") # All symptoms\n",
        "df_indi = pd.read_csv(\"./Disease_Symptom_Dataset_For_Respective_Symptoms.csv\") # Individual symptoms\n",
        "\n",
        "X = df_comb.iloc[:, 1:]\n",
        "Y = df_comb.iloc[:, 0:1]"
      ],
      "metadata": {
        "id": "qOJ5oWWxTUcp"
      },
      "execution_count": 6,
      "outputs": []
    },
    {
      "cell_type": "code",
      "source": [
        "lr = LogisticRegression()\n",
        "lr = lr.fit(X, Y)\n",
        "scores = cross_val_score(lr, X, Y, cv=5)"
      ],
      "metadata": {
        "id": "EcwIN6xwTWGK"
      },
      "execution_count": 7,
      "outputs": []
    },
    {
      "cell_type": "code",
      "source": [
        "X = df_indi.iloc[:, 1:]\n",
        "Y = df_indi.iloc[:, 0:1]"
      ],
      "metadata": {
        "id": "mrVMQ6bXTYPb"
      },
      "execution_count": 8,
      "outputs": []
    },
    {
      "cell_type": "code",
      "source": [
        "# List of symptoms\n",
        "symptoms_dataset = list(X.columns)"
      ],
      "metadata": {
        "id": "FJyshMUXTaOF"
      },
      "execution_count": 9,
      "outputs": []
    },
    {
      "cell_type": "code",
      "source": [
        "# Taking symptoms from user as input \n",
        "user_symptoms = str(input(\"Please enter symptoms separated by comma(,):\\n\")).lower().split(',')\n",
        "# Preprocessing the input symptoms\n",
        "processed_user_symptoms=[]\n",
        "for sym in user_symptoms:\n",
        "    sym=sym.strip()\n",
        "    sym=sym.replace('-',' ')\n",
        "    sym=sym.replace(\"'\",'')\n",
        "    sym = ' '.join([lemmatizer.lemmatize(word) for word in splitter.tokenize(sym)])\n",
        "    processed_user_symptoms.append(sym)"
      ],
      "metadata": {
        "colab": {
          "base_uri": "https://localhost:8080/"
        },
        "id": "ONOI0QpxTcKh",
        "outputId": "17805f8c-b663-4a94-f624-36b112560000"
      },
      "execution_count": 10,
      "outputs": [
        {
          "name": "stdout",
          "output_type": "stream",
          "text": [
            "Please enter symptoms separated by comma(,):\n",
            "coughing,pyrexia,tire,loss of smell\n"
          ]
        }
      ]
    },
    {
      "cell_type": "code",
      "source": [
        "# Taking each user symptom and finding all its synonyms and appending it to the pre-processed symptom string\n",
        "user_symptoms = []\n",
        "for user_sym in processed_user_symptoms:\n",
        "    user_sym = user_sym.split()\n",
        "    str_sym = set()\n",
        "    for comb in range(1, len(user_sym)+1):\n",
        "        for subset in combinations(user_sym, comb):\n",
        "            subset=' '.join(subset)\n",
        "            subset = synonyms(subset) \n",
        "            str_sym.update(subset)\n",
        "    str_sym.add(' '.join(user_sym))\n",
        "    user_symptoms.append(' '.join(str_sym).replace('_',' '))\n",
        "# query expansion performed by joining synonyms found for each symptoms initially entered\n",
        "print(\"After query expansion done by using the symptoms entered\")\n",
        "print(user_symptoms)"
      ],
      "metadata": {
        "colab": {
          "base_uri": "https://localhost:8080/"
        },
        "id": "4lWcOxOUTfDs",
        "outputId": "e8cc99ed-621b-455c-c629-1b86d66055f4"
      },
      "execution_count": 11,
      "outputs": [
        {
          "output_type": "stream",
          "name": "stdout",
          "text": [
            "After query expansion done by using the symptoms entered\n",
            "['cough coughing', 'fever febricity pyrexia feverishness febrility', 'tire wear upon tyre exhaust play out run down wear fag wear out fatigue pall jade tire out sap bore wear down outwear fag out weary', 'olfaction scent red ink departure smell exit olfactory modality look olfactory property going red flavor spirit feeling loss of smell tone sense of smell sense feel personnel casualty smell out olfactory perception flavour loss reek expiration odor smelling olfactory sensation passing odour aroma smack release deprivation']\n"
          ]
        }
      ]
    },
    {
      "cell_type": "code",
      "source": [
        "# Loop over all the symptoms in dataset and check its similarity score to the synonym string of the user-input \n",
        "# symptoms. If similarity>0.5, add the symptom to the final list\n",
        "found_symptoms = set()\n",
        "for idx, data_sym in enumerate(symptoms_dataset):\n",
        "    data_sym_split=data_sym.split()\n",
        "    for user_sym in user_symptoms:\n",
        "        count=0\n",
        "        for symp in data_sym_split:\n",
        "            if symp in user_sym.split():\n",
        "                count+=1\n",
        "        if count/len(data_sym_split)>0.5:\n",
        "            found_symptoms.add(data_sym)\n",
        "found_symptoms = list(found_symptoms)"
      ],
      "metadata": {
        "id": "lmYCLdc8ThnS"
      },
      "execution_count": 12,
      "outputs": []
    },
    {
      "cell_type": "code",
      "source": [
        "# Print all found symptoms\n",
        "print(\"Top matching symptoms from your search!\")\n",
        "for idx, symp in enumerate(found_symptoms):\n",
        "    print(idx,\":\",symp)\n",
        "    \n",
        "# Show the related symptoms found in the dataset and ask user to select among them\n",
        "select_list = input(\"\\nPlease select the relevant symptoms. Enter indices (separated-space):\\n\").split()\n",
        "\n",
        "# Find other relevant symptoms from the dataset based on user symptoms based on the highest co-occurance with the\n",
        "# ones that is input by the user\n",
        "dis_list = set()\n",
        "final_symp = [] \n",
        "counter_list = []\n",
        "for idx in select_list:\n",
        "    symp=found_symptoms[int(idx)]\n",
        "    final_symp.append(symp)\n",
        "    dis_list.update(set(df_indi[df_indi[symp]==1]['Disease_Name']))\n",
        "   \n",
        "for dis in dis_list:\n",
        "    row = df_indi.loc[df_indi['Disease_Name'] == dis].values.tolist()\n",
        "    row[0].pop(0)\n",
        "    for idx,val in enumerate(row[0]):\n",
        "        if val!=0 and symptoms_dataset[idx] not in final_symp:\n",
        "            counter_list.append(symptoms_dataset[idx])"
      ],
      "metadata": {
        "colab": {
          "base_uri": "https://localhost:8080/"
        },
        "id": "F7gu3kG5Tjz7",
        "outputId": "4bc2dfd4-3e2c-41ac-cad9-bcd83b65a6fa"
      },
      "execution_count": 13,
      "outputs": [
        {
          "name": "stdout",
          "output_type": "stream",
          "text": [
            "Top matching symptoms from your search!\n",
            "0 : fever\n",
            "1 : loss taste smell\n",
            "2 : loss smell\n",
            "3 : coughing\n",
            "4 : smell\n",
            "\n",
            "Please select the relevant symptoms. Enter indices (separated-space):\n",
            "0 2 3\n"
          ]
        }
      ]
    },
    {
      "cell_type": "code",
      "source": [
        "# Symptoms that co-occur with the ones selected by user              \n",
        "dict_symp = dict(Counter(counter_list))\n",
        "dict_symp_tup = sorted(dict_symp.items(), key=operator.itemgetter(1),reverse=True)   \n",
        "#print(dict_symp_tup) "
      ],
      "metadata": {
        "id": "nEVli3aJTlz-"
      },
      "execution_count": 14,
      "outputs": []
    },
    {
      "cell_type": "code",
      "source": [
        "# Iteratively, suggest top co-occuring symptoms to the user and ask to select the ones applicable \n",
        "found_symptoms=[]\n",
        "count=0\n",
        "for tup in dict_symp_tup:\n",
        "    count+=1\n",
        "    found_symptoms.append(tup[0])\n",
        "    if count%5==0 or count==len(dict_symp_tup):\n",
        "        print(\"\\nCommon co-occuring symptoms:\")\n",
        "        for idx,ele in enumerate(found_symptoms):\n",
        "            print(idx,\":\",ele)\n",
        "        select_list = input(\"Do you have have of these symptoms? If Yes, enter the indices (space-separated), 'no' to stop, '-1' to skip:\\n\").lower().split();\n",
        "        if select_list[0]=='no':\n",
        "            break\n",
        "        if select_list[0]=='-1':\n",
        "            found_symptoms = [] \n",
        "            continue\n",
        "        for idx in select_list:\n",
        "            final_symp.append(found_symptoms[int(idx)])\n",
        "        found_symptoms = [] "
      ],
      "metadata": {
        "colab": {
          "base_uri": "https://localhost:8080/"
        },
        "id": "X43Ycv44Tnot",
        "outputId": "618e3771-c158-44eb-8ab3-476df3b16906"
      },
      "execution_count": 15,
      "outputs": [
        {
          "name": "stdout",
          "output_type": "stream",
          "text": [
            "\n",
            "Common co-occuring symptoms:\n",
            "0 : headache\n",
            "1 : nausea vomiting\n",
            "2 : diarrhoea\n",
            "3 : sore throat\n",
            "4 : testicular pain\n",
            "Do you have have of these symptoms? If Yes, enter the indices (space-separated), 'no' to stop, '-1' to skip:\n",
            "3\n",
            "\n",
            "Common co-occuring symptoms:\n",
            "0 : muscle pain\n",
            "1 : maculopapular rash\n",
            "2 : shortness breath\n",
            "3 : confusion\n",
            "4 : runny nose\n",
            "Do you have have of these symptoms? If Yes, enter the indices (space-separated), 'no' to stop, '-1' to skip:\n",
            "no\n"
          ]
        }
      ]
    },
    {
      "cell_type": "code",
      "source": [
        "# Create query vector based on symptoms selected by the user\n",
        "print(\"\\nFinal list of Symptoms that will be used for prediction:\")\n",
        "sample_x = [0 for x in range(0,len(symptoms_dataset))]\n",
        "for val in final_symp:\n",
        "    print(val)\n",
        "    sample_x[symptoms_dataset.index(val)]=1"
      ],
      "metadata": {
        "colab": {
          "base_uri": "https://localhost:8080/"
        },
        "id": "hORTbriOTpme",
        "outputId": "89ed1d08-88be-41ff-99a2-fb2bb3d81988"
      },
      "execution_count": 16,
      "outputs": [
        {
          "output_type": "stream",
          "name": "stdout",
          "text": [
            "\n",
            "Final list of Symptoms that will be used for prediction:\n",
            "fever\n",
            "loss smell\n",
            "coughing\n",
            "sore throat\n"
          ]
        }
      ]
    },
    {
      "cell_type": "code",
      "source": [
        "# Predict disease\n",
        "lr = LogisticRegression()\n",
        "lr = lr.fit(X, Y)\n",
        "prediction = lr.predict_proba([sample_x])"
      ],
      "metadata": {
        "id": "cZRel0A8Tr0l"
      },
      "execution_count": 17,
      "outputs": []
    },
    {
      "cell_type": "code",
      "source": [
        "k = 10\n",
        "diseases = list(set(Y['Disease_Name']))\n",
        "diseases.sort()\n",
        "topk = prediction[0].argsort()[-k:][::-1]"
      ],
      "metadata": {
        "id": "9KhuZ_y0Tt5Y"
      },
      "execution_count": 18,
      "outputs": []
    },
    {
      "cell_type": "code",
      "source": [
        "print(f\"\\nTop {k} diseases predicted based on symptoms\")\n",
        "topk_dict = {}\n",
        "# Show top 10 highly probable disease to the user.\n",
        "for idx,t in  enumerate(topk):\n",
        "    match_sym=set()\n",
        "    row = df_indi.loc[df_indi['Disease_Name'] == diseases[t]].values.tolist()\n",
        "    row[0].pop(0)\n",
        "\n",
        "    for idx,val in enumerate(row[0]):\n",
        "        if val!=0:\n",
        "            match_sym.add(symptoms_dataset[idx])\n",
        "    prob = (len(match_sym.intersection(set(final_symp)))+1)/(len(set(final_symp))+1)\n",
        "    prob *= mean(scores)\n",
        "    topk_dict[t] = prob\n",
        "j = 0\n",
        "topk_index_mapping = {}\n",
        "topk_sorted = dict(sorted(topk_dict.items(), key=lambda kv: kv[1], reverse=True))\n",
        "for key in topk_sorted:\n",
        "  prob = topk_sorted[key]*100\n",
        "  print(str(j) + \" Disease name:\",diseases[key], \"\\tProbability:\",str(round(prob, 2))+\"%\")\n",
        "  topk_index_mapping[j] = key\n",
        "  j += 1\n",
        "\n",
        "select = input(\"\\nMore details about the disease? Enter index of disease or '-1' to discontinue and close the system:\\n\")\n",
        "if select!='-1':\n",
        "    dis=diseases[topk_index_mapping[int(select)]]\n",
        "    print()\n",
        "    print(diseaseDetail(dis))"
      ],
      "metadata": {
        "colab": {
          "base_uri": "https://localhost:8080/"
        },
        "id": "EqDnvFcfTwad",
        "outputId": "4e183b71-ac96-4c5d-8c21-edd9e268bd47"
      },
      "execution_count": 19,
      "outputs": [
        {
          "output_type": "stream",
          "name": "stdout",
          "text": [
            "\n",
            "Top 10 diseases predicted based on symptoms\n",
            "0 Disease name: Common cold \tProbability: 75.04%\n",
            "1 Disease name: Flu \tProbability: 75.04%\n",
            "2 Disease name: Diphtheria \tProbability: 56.28%\n",
            "3 Disease name: Strep throat \tProbability: 56.28%\n",
            "4 Disease name: Pneumonia \tProbability: 56.28%\n",
            "5 Disease name: Mononucleosis \tProbability: 56.28%\n",
            "6 Disease name: Middle east respiratory syndrome coronavirus (mers‐cov) \tProbability: 56.28%\n",
            "7 Disease name: Cough \tProbability: 56.28%\n",
            "8 Disease name: Tonsillitis \tProbability: 56.28%\n",
            "9 Disease name: Rubella \tProbability: 56.28%\n",
            "\n",
            "More details about the disease? Enter index of disease or '-1' to discontinue and close the system:\n",
            "4\n",
            "\n",
            "Pneumonia\n",
            "Other names -  Pneumonitis \n",
            "Pronunciation -       /  nj  uː  ˈ  m  oʊ  n  i  ə  /    new- MOHN -ee-ə      \n",
            "Specialty -  Pulmonology, Infectious disease \n",
            "Symptoms -  Cough, difficulty breathing, rapid breathing, fever   \n",
            "Duration -  Few weeks   \n",
            "Causes -  Bacteria, virus, aspiration   \n",
            "Risk factors -  Cystic fibrosis, COPD, sickle cell disease, asthma, diabetes, heart failure, history of smoking, older age   \n",
            "Diagnostic method -  Based on symptoms, chest X-ray   \n",
            "Differential diagnosis -  COPD, asthma, pulmonary edema, pulmonary embolism   \n",
            "Prevention -  Vaccines, handwashing, not smoking   \n",
            "Medication -  Antibiotics, antivirals, oxygen therapy   \n",
            "Frequency -  450 million (7%) per year   \n",
            "Deaths -  Four million per year   \n",
            "\n"
          ]
        }
      ]
    }
  ]
}