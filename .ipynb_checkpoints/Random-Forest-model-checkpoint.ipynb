{
 "cells": [
  {
   "cell_type": "code",
   "execution_count": 1,
   "id": "f3c86d7f",
   "metadata": {},
   "outputs": [],
   "source": [
    "import pandas as pd\n",
    "from sklearn.metrics import accuracy_score\n",
    "from sklearn.model_selection import train_test_split, cross_val_score\n",
    "from sklearn.ensemble import RandomForestClassifier\n",
    "import matplotlib.pyplot as plt\n",
    "from decimal import Decimal"
   ]
  },
  {
   "cell_type": "code",
   "execution_count": 2,
   "id": "3c2819ab",
   "metadata": {},
   "outputs": [],
   "source": [
    "model_accuracy_combination = []\n",
    "model_list = []\n",
    "cross_accuracy_model_list = []"
   ]
  },
  {
   "cell_type": "code",
   "execution_count": 3,
   "id": "2413750f",
   "metadata": {},
   "outputs": [],
   "source": [
    "# separatin\n",
    "df_data = pd.read_csv(\"./Disease_Symptom_Dataset_For_All_Symptom_Subsets.csv\")\n",
    "X = df_data.iloc[:, 1:]\n",
    "Y = df_data.iloc[:, 0:1]\n",
    "                      "
   ]
  },
  {
   "cell_type": "code",
   "execution_count": 4,
   "id": "1a3a8e9c",
   "metadata": {},
   "outputs": [],
   "source": [
    "# split the file for training and testing 90% used for training and 10% used for testing\n",
    "x_train, x_test, y_train, y_test = train_test_split(X, Y, test_size=0.10)\n"
   ]
  },
  {
   "cell_type": "code",
   "execution_count": 5,
   "id": "00beeac6",
   "metadata": {},
   "outputs": [
    {
     "name": "stderr",
     "output_type": "stream",
     "text": [
      "/var/folders/c6/nt3b12lj4jqb1p251g91yzk40000gn/T/ipykernel_4182/3592000658.py:3: DataConversionWarning: A column-vector y was passed when a 1d array was expected. Please change the shape of y to (n_samples,), for example using ravel().\n",
      "  rf = rf.fit(x_train, y_train)\n"
     ]
    },
    {
     "name": "stdout",
     "output_type": "stream",
     "text": [
      "Accuracy (RF) : 92.29%\n"
     ]
    },
    {
     "name": "stderr",
     "output_type": "stream",
     "text": [
      "/Library/Frameworks/Python.framework/Versions/3.9/lib/python3.9/site-packages/sklearn/model_selection/_split.py:676: UserWarning: The least populated class in y has only 1 members, which is less than n_splits=5.\n",
      "  warnings.warn(\n",
      "/Library/Frameworks/Python.framework/Versions/3.9/lib/python3.9/site-packages/sklearn/model_selection/_validation.py:680: DataConversionWarning: A column-vector y was passed when a 1d array was expected. Please change the shape of y to (n_samples,), for example using ravel().\n",
      "  estimator.fit(X_train, y_train, **fit_params)\n",
      "/Library/Frameworks/Python.framework/Versions/3.9/lib/python3.9/site-packages/sklearn/model_selection/_validation.py:680: DataConversionWarning: A column-vector y was passed when a 1d array was expected. Please change the shape of y to (n_samples,), for example using ravel().\n",
      "  estimator.fit(X_train, y_train, **fit_params)\n",
      "/Library/Frameworks/Python.framework/Versions/3.9/lib/python3.9/site-packages/sklearn/model_selection/_validation.py:680: DataConversionWarning: A column-vector y was passed when a 1d array was expected. Please change the shape of y to (n_samples,), for example using ravel().\n",
      "  estimator.fit(X_train, y_train, **fit_params)\n",
      "/Library/Frameworks/Python.framework/Versions/3.9/lib/python3.9/site-packages/sklearn/model_selection/_validation.py:680: DataConversionWarning: A column-vector y was passed when a 1d array was expected. Please change the shape of y to (n_samples,), for example using ravel().\n",
      "  estimator.fit(X_train, y_train, **fit_params)\n",
      "/Library/Frameworks/Python.framework/Versions/3.9/lib/python3.9/site-packages/sklearn/model_selection/_validation.py:680: DataConversionWarning: A column-vector y was passed when a 1d array was expected. Please change the shape of y to (n_samples,), for example using ravel().\n",
      "  estimator.fit(X_train, y_train, **fit_params)\n"
     ]
    },
    {
     "name": "stdout",
     "output_type": "stream",
     "text": [
      "Cross Validation Accuracy (RF): 92.36%\n"
     ]
    }
   ],
   "source": [
    "# Random-Forest Classifier\n",
    "rf = RandomForestClassifier(n_estimators=10, criterion='entropy')\n",
    "rf = rf.fit(x_train, y_train)\n",
    "\n",
    "rf_pred = rf.predict(x_test)\n",
    "acc_rf = round(Decimal(accuracy_score(y_test, rf_pred) * 100), 2)\n",
    "model_accuracy_combination.append(acc_rf)\n",
    "model_list.append(\"RF\")\n",
    "print(f\"Accuracy (RF) : {acc_rf}%\")\n",
    "\n",
    "# Cross Validation \n",
    "# performing cross validation with 5 different splits\n",
    "scores_rf = cross_val_score(rf, X, Y, cv=5)\n",
    "# mean of cross val score (accuracy)\n",
    "score = round(Decimal(scores_rf.mean() * 100), 2)\n",
    "cross_accuracy_model_list.append(score)\n",
    "print(f\"Cross Validation Accuracy (RF): {score}%\")"
   ]
  },
  {
   "cell_type": "code",
   "execution_count": null,
   "id": "a1f21ad3",
   "metadata": {},
   "outputs": [],
   "source": []
  }
 ],
 "metadata": {
  "kernelspec": {
   "display_name": "Python 3 (ipykernel)",
   "language": "python",
   "name": "python3"
  },
  "language_info": {
   "codemirror_mode": {
    "name": "ipython",
    "version": 3
   },
   "file_extension": ".py",
   "mimetype": "text/x-python",
   "name": "python",
   "nbconvert_exporter": "python",
   "pygments_lexer": "ipython3",
   "version": "3.9.5"
  }
 },
 "nbformat": 4,
 "nbformat_minor": 5
}
