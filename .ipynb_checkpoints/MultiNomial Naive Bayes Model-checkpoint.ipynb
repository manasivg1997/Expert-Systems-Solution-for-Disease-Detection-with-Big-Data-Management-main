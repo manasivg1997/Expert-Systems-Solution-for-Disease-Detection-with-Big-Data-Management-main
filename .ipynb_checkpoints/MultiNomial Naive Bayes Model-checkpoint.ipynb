{
 "cells": [
  {
   "cell_type": "code",
   "execution_count": 5,
   "id": "0dfcae41",
   "metadata": {},
   "outputs": [
    {
     "name": "stdout",
     "output_type": "stream",
     "text": [
      "Accuracy (Multinomial_NB) : 89.00%\n",
      "Cross Validation Accuracy (Multinomial_NB): 89.94%\n"
     ]
    }
   ],
   "source": [
    "import warnings\n",
    "from decimal import Decimal\n",
    "import pandas as pd\n",
    "from sklearn.svm import SVC\n",
    "from sklearn.metrics import accuracy_score\n",
    "from sklearn.model_selection import train_test_split, cross_val_score\n",
    "from sklearn.model_selection import GridSearchCV\n",
    "from sklearn.naive_bayes import MultinomialNB\n",
    "\n",
    "#from xgboost import XGBClassifier\n",
    "import matplotlib.pyplot as plt\n",
    "# ignore warnings generated due to usage of old version of tensorflow\n",
    "warnings.simplefilter(\"ignore\")\n",
    "\n",
    "\n",
    "# Load Dataset scraped from NHP (https://www.nhp.gov.in/disease-a-z) & Wikipedia\n",
    "# Scrapping and creation of dataset csv is done in a separate program\n",
    "df_disease_symptom = pd.read_csv(\"Disease_Symptom_Dataset_For_All_Symptom_Subsets.csv\")\n",
    "df_disease_symptom = df_disease_symptom.dropna()\n",
    "# creation of features and label for training the models\n",
    "X = df_disease_symptom.iloc[:, 1:]\n",
    "Y = df_disease_symptom.iloc[:,:1]\n",
    "\n",
    "\"\"\"*Train Test Split*\"\"\"\n",
    "\n",
    "# splitting data for training the classifiers and testing\n",
    "x_train, x_test, y_train, y_test = train_test_split(X, Y, test_size=0.10)\n",
    "\n",
    "# lists used for accuracy plots\n",
    "model_accuracy_list = []\n",
    "cross_validation_accuracy_list = []\n",
    "models = []\n",
    "\n",
    "Multinomial_NB = MultinomialNB()\n",
    "Multinomial_NB = Multinomial_NB.fit(x_train, y_train)\n",
    "# prediction of labels for the test data\n",
    "Multinomial_NB_pred = Multinomial_NB.predict(x_test)\n",
    "# calculation of accuracy score based on predictions performed\n",
    "# converting to Decimal as rounding with float is inaccurate\n",
    "accuracy_Multinomial_NB = round(Decimal(accuracy_score(y_test, Multinomial_NB_pred) * 100), 2)\n",
    "model_accuracy_list.append(accuracy_Multinomial_NB)\n",
    "models.append(\"Multinomial_NB\")\n",
    "print(f\"Accuracy (Multinomial_NB) : {accuracy_Multinomial_NB}%\")\n",
    "\n",
    "# Cross Validation Accuracy Multinomial_NB\n",
    "# performing cross validation with 5 different splits\n",
    "Cross_Val_Score_Multinomial_NB = cross_val_score(Multinomial_NB, X, Y, cv=5)\n",
    "# mean of cross val score (accuracy)\n",
    "mean_cross_val_Multinomial_NB = round(Decimal(Cross_Val_Score_Multinomial_NB.mean() * 100), 2)\n",
    "cross_validation_accuracy_list.append(mean_cross_val_Multinomial_NB)\n",
    "print(f\"Cross Validation Accuracy (Multinomial_NB): {mean_cross_val_Multinomial_NB}%\")"
   ]
  }
 ],
 "metadata": {
  "kernelspec": {
   "display_name": "Python 3 (ipykernel)",
   "language": "python",
   "name": "python3"
  },
  "language_info": {
   "codemirror_mode": {
    "name": "ipython",
    "version": 3
   },
   "file_extension": ".py",
   "mimetype": "text/x-python",
   "name": "python",
   "nbconvert_exporter": "python",
   "pygments_lexer": "ipython3",
   "version": "3.9.5"
  }
 },
 "nbformat": 4,
 "nbformat_minor": 5
}
