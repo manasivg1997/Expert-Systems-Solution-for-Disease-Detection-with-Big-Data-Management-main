{
 "cells": [
  {
   "cell_type": "code",
   "execution_count": 7,
   "id": "287b22f2",
   "metadata": {},
   "outputs": [],
   "source": [
    "import pandas as pd\n",
    "from sklearn.metrics import accuracy_score\n",
    "from sklearn.model_selection import train_test_split, cross_val_score\n",
    "from sklearn.linear_model import LogisticRegression\n",
    "import matplotlib.pyplot as plt\n",
    "from decimal import Decimal"
   ]
  },
  {
   "cell_type": "code",
   "execution_count": 9,
   "id": "5e2bf5ec",
   "metadata": {},
   "outputs": [],
   "source": [
    "model_accuracy_combination = []\n",
    "model_list = []\n",
    "cross_accuracy_model_list = []"
   ]
  },
  {
   "cell_type": "code",
   "execution_count": 10,
   "id": "177b32a5",
   "metadata": {},
   "outputs": [],
   "source": [
    "df_data = pd.read_csv(\"./Disease_Symptom_Dataset_For_All_Symptom_Subsets.csv\")\n",
    "X = df_data.iloc[:, 1:]\n",
    "Y = df_data.iloc[:, 0:1]\n",
    "                      "
   ]
  },
  {
   "cell_type": "code",
   "execution_count": 11,
   "id": "c3c9dd90",
   "metadata": {},
   "outputs": [],
   "source": [
    "x_train, x_test, y_train, y_test = train_test_split(X, Y, test_size=0.10)"
   ]
  },
  {
   "cell_type": "code",
   "execution_count": 13,
   "id": "740301c7",
   "metadata": {},
   "outputs": [
    {
     "name": "stderr",
     "output_type": "stream",
     "text": [
      "/Library/Frameworks/Python.framework/Versions/3.9/lib/python3.9/site-packages/sklearn/utils/validation.py:993: DataConversionWarning: A column-vector y was passed when a 1d array was expected. Please change the shape of y to (n_samples, ), for example using ravel().\n",
      "  y = column_or_1d(y, warn=True)\n"
     ]
    },
    {
     "name": "stdout",
     "output_type": "stream",
     "text": [
      "Accuracy (LR) : 94.53%\n"
     ]
    },
    {
     "name": "stderr",
     "output_type": "stream",
     "text": [
      "/Library/Frameworks/Python.framework/Versions/3.9/lib/python3.9/site-packages/sklearn/model_selection/_split.py:676: UserWarning: The least populated class in y has only 1 members, which is less than n_splits=5.\n",
      "  warnings.warn(\n",
      "/Library/Frameworks/Python.framework/Versions/3.9/lib/python3.9/site-packages/sklearn/utils/validation.py:993: DataConversionWarning: A column-vector y was passed when a 1d array was expected. Please change the shape of y to (n_samples, ), for example using ravel().\n",
      "  y = column_or_1d(y, warn=True)\n",
      "/Library/Frameworks/Python.framework/Versions/3.9/lib/python3.9/site-packages/sklearn/utils/validation.py:993: DataConversionWarning: A column-vector y was passed when a 1d array was expected. Please change the shape of y to (n_samples, ), for example using ravel().\n",
      "  y = column_or_1d(y, warn=True)\n",
      "/Library/Frameworks/Python.framework/Versions/3.9/lib/python3.9/site-packages/sklearn/utils/validation.py:993: DataConversionWarning: A column-vector y was passed when a 1d array was expected. Please change the shape of y to (n_samples, ), for example using ravel().\n",
      "  y = column_or_1d(y, warn=True)\n",
      "/Library/Frameworks/Python.framework/Versions/3.9/lib/python3.9/site-packages/sklearn/utils/validation.py:993: DataConversionWarning: A column-vector y was passed when a 1d array was expected. Please change the shape of y to (n_samples, ), for example using ravel().\n",
      "  y = column_or_1d(y, warn=True)\n",
      "/Library/Frameworks/Python.framework/Versions/3.9/lib/python3.9/site-packages/sklearn/utils/validation.py:993: DataConversionWarning: A column-vector y was passed when a 1d array was expected. Please change the shape of y to (n_samples, ), for example using ravel().\n",
      "  y = column_or_1d(y, warn=True)\n"
     ]
    },
    {
     "name": "stdout",
     "output_type": "stream",
     "text": [
      "Cross Validation Accuracy (LR): 93.80%\n"
     ]
    }
   ],
   "source": [
    "# LR Classifier\n",
    "lr = LogisticRegression()\n",
    "lr = lr.fit(x_train, y_train)\n",
    "# prediction of labels for the test data\n",
    "lr_pred = lr.predict(x_test)\n",
    "acc_lr = round(Decimal(accuracy_score(y_test, lr_pred) * 100), 2)\n",
    "model_accuracy_combination.append(acc_lr)\n",
    "model_list.append(\"LR\")\n",
    "print(f\"Accuracy (LR) : {acc_lr}%\")\n",
    "\n",
    "# Cross Validation Accuracy LR\n",
    "# performing cross validation with 5 different splits\n",
    "scores_lr = cross_val_score(lr, X, Y, cv=5)\n",
    "# mean of cross val score (accuracy)\n",
    "score = round(Decimal(scores_lr.mean() * 100), 2)\n",
    "cross_accuracy_model_list.append(score)\n",
    "print(f\"Cross Validation Accuracy (LR): {score}%\")\n"
   ]
  },
  {
   "cell_type": "code",
   "execution_count": null,
   "id": "6cadc294",
   "metadata": {},
   "outputs": [],
   "source": []
  }
 ],
 "metadata": {
  "kernelspec": {
   "display_name": "Python 3 (ipykernel)",
   "language": "python",
   "name": "python3"
  },
  "language_info": {
   "codemirror_mode": {
    "name": "ipython",
    "version": 3
   },
   "file_extension": ".py",
   "mimetype": "text/x-python",
   "name": "python",
   "nbconvert_exporter": "python",
   "pygments_lexer": "ipython3",
   "version": "3.9.5"
  }
 },
 "nbformat": 4,
 "nbformat_minor": 5
}
