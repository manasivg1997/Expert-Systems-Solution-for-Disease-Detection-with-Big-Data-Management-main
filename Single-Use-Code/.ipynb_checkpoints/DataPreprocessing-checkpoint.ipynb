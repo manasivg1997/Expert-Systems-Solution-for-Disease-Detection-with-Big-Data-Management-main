{
 "cells": [
  {
   "cell_type": "markdown",
   "metadata": {
    "id": "EX0Zb_cScTc4"
   },
   "source": [
    "## This module performs Data preprocessing & improvises it with NLP & Web scraping"
   ]
  },
  {
   "cell_type": "code",
   "execution_count": 1,
   "metadata": {
    "colab": {
     "base_uri": "https://localhost:8080/"
    },
    "id": "qC9eV8q1cagQ",
    "outputId": "20bd4950-4186-426b-db92-e892414c54fc"
   },
   "outputs": [
    {
     "name": "stdout",
     "output_type": "stream",
     "text": [
      "Mounted at /content/drive\n"
     ]
    }
   ],
   "source": [
    "# Establish connection to use Google drive\n",
    "\n",
    "from google.colab import drive\n",
    "drive.mount(\"/content/drive\")"
   ]
  },
  {
   "cell_type": "code",
   "execution_count": 2,
   "metadata": {
    "id": "tYBjNZMUcIAO"
   },
   "outputs": [],
   "source": [
    "# Filter & ignore warnings for clear output visualization\n",
    "\n",
    "import warnings\n",
    "warnings.filterwarnings(\"ignore\")"
   ]
  },
  {
   "cell_type": "code",
   "execution_count": 3,
   "metadata": {
    "id": "gq5zzj9hcKhT"
   },
   "outputs": [],
   "source": [
    "# Import necessary packages\n",
    "\n",
    "import re\n",
    "import csv\n",
    "import math\n",
    "import pickle\n",
    "import operator\n",
    "import requests\n",
    "import numpy as np\n",
    "import pandas as pd\n",
    "from time import time\n",
    "from statistics import mean\n",
    "from bs4 import BeautifulSoup\n",
    "from collections import Counter\n",
    "from itertools import combinations\n",
    "from collections import OrderedDict"
   ]
  },
  {
   "cell_type": "code",
   "execution_count": 4,
   "metadata": {
    "colab": {
     "base_uri": "https://localhost:8080/"
    },
    "id": "KPogYIYtcMot",
    "outputId": "778ad08f-c964-421b-e1de-74fb550c5132"
   },
   "outputs": [
    {
     "name": "stdout",
     "output_type": "stream",
     "text": [
      "[nltk_data] Downloading package wordnet to /root/nltk_data...\n",
      "[nltk_data]   Unzipping corpora/wordnet.zip.\n",
      "[nltk_data] Downloading package stopwords to /root/nltk_data...\n",
      "[nltk_data]   Unzipping corpora/stopwords.zip.\n"
     ]
    },
    {
     "data": {
      "text/plain": [
       "True"
      ]
     },
     "execution_count": 4,
     "metadata": {},
     "output_type": "execute_result"
    }
   ],
   "source": [
    "# Download necessary NLP libraries\n",
    "\n",
    "import nltk\n",
    "nltk.download(\"wordnet\")\n",
    "nltk.download(\"stopwords\")"
   ]
  },
  {
   "cell_type": "code",
   "execution_count": 5,
   "metadata": {
    "id": "NjKtWK2wcPXn"
   },
   "outputs": [],
   "source": [
    "# Import necessary NLP packages\n",
    "\n",
    "from nltk.corpus import wordnet \n",
    "from nltk.corpus import stopwords\n",
    "from nltk.stem import WordNetLemmatizer\n",
    "from nltk.tokenize import RegexpTokenizer"
   ]
  },
  {
   "cell_type": "code",
   "execution_count": 6,
   "metadata": {
    "id": "TU6ZGKCTcgc1"
   },
   "outputs": [],
   "source": [
    "# Global initializations\n",
    "\n",
    "stop_words = stopwords.words(\"english\")\n",
    "lemmatizer = WordNetLemmatizer()\n",
    "splitter = RegexpTokenizer(r'\\w+')"
   ]
  },
  {
   "cell_type": "code",
   "execution_count": 7,
   "metadata": {
    "colab": {
     "base_uri": "https://localhost:8080/"
    },
    "id": "7gyIy90KmGUR",
    "outputId": "405e8e74-bde4-4637-aaac-761340be1a07"
   },
   "outputs": [
    {
     "name": "stdout",
     "output_type": "stream",
     "text": [
      "Collecting pickle5\n",
      "  Downloading pickle5-0.0.12-cp37-cp37m-manylinux_2_5_x86_64.manylinux1_x86_64.whl (256 kB)\n",
      "\u001b[K     |████████████████████████████████| 256 kB 5.2 MB/s eta 0:00:01\n",
      "\u001b[?25hInstalling collected packages: pickle5\n",
      "Successfully installed pickle5-0.0.12\n"
     ]
    }
   ],
   "source": [
    "# Do this only if you use Google colab\n",
    "\n",
    "!pip3 install pickle5"
   ]
  },
  {
   "cell_type": "code",
   "execution_count": 8,
   "metadata": {
    "id": "b3bUcBnObr-i"
   },
   "outputs": [],
   "source": [
    "# Load dataset by setting its base path\n",
    "# Defines a function to read the pickle file generated in Data collection step to obtain disease symptoms\n",
    "\n",
    "import pickle5 as pickle\n",
    "\n",
    "def readDiseaseSymptoms():\n",
    "    \n",
    "    disease_symptoms = None\n",
    "    file_path = \"drive/MyDrive/Dataset/final_disease_symptoms.pickle\"\n",
    "\n",
    "    with open(file_path, \"rb\") as handle:\n",
    "        disease_symptoms = pickle.load(handle)\n",
    "      \n",
    "    #with open(file_path, 'rb') as handle:\n",
    "        #disease_symptoms = pickle.load(handle)\n",
    "\n",
    "    return disease_symptoms\n",
    "    "
   ]
  },
  {
   "cell_type": "code",
   "execution_count": 9,
   "metadata": {
    "id": "p4uTbLPgcdln"
   },
   "outputs": [],
   "source": [
    "# Defines a function that iterates over all diseases and preprocess respective symptoms string \n",
    "# by and breaking it into individual symptoms per disease\n",
    "\n",
    "def getUniqueAndCleanedDiseaseSymptoms(disease_symptoms):\n",
    "    \n",
    "    # Set to store all unique symptoms\n",
    "    unique_symptoms = set() \n",
    "    \n",
    "    # Ordered disctionary of the form <Disease, [List of symptoms]>\n",
    "    cleaned_diseases_symptoms = OrderedDict() \n",
    "    \n",
    "    for key in sorted(disease_symptoms.keys()):\n",
    "        value = disease_symptoms[key]\n",
    "        \n",
    "        # Normalize the case & split by comma\n",
    "        symptoms_list = re.sub(r\"\\[\\S+\\]\", \"\", value).lower().split(',')\n",
    "        temp_list1 = symptoms_list\n",
    "        symptoms_list = []\n",
    "        \n",
    "        # Adds into symptoms list only if it has atleast one symptom\n",
    "        for symptom in temp_list1:\n",
    "            if len(symptom.strip()) > 0:\n",
    "                symptoms_list.append(symptom.strip())\n",
    "                \n",
    "        # Remove \"none\" from symptoms\n",
    "        if \"none\" in symptoms_list: \n",
    "            symptoms_list.remove(\"none\")\n",
    "            \n",
    "        # Initially, we do not have anything in the list & hence, we do not need further steps\n",
    "        if len(symptoms_list) == 0:\n",
    "            continue\n",
    "            \n",
    "        # Performs basic NLP processing (lemmatization) on Symptoms\n",
    "        temp_list2 = []\n",
    "        for symptom in symptoms_list:\n",
    "            symptom = symptom.replace('-', ' ')\n",
    "            symptom = symptom.replace(\"'\", '')\n",
    "            symptom = symptom.replace('(', '')\n",
    "            symptom = symptom.replace(')', '')\n",
    "            symptom = ' '.join([lemmatizer.lemmatize(word) for word in splitter.tokenize(symptom) \n",
    "                            if word not in stop_words and not word[0].isdigit()])\n",
    "            unique_symptoms.add(symptom)\n",
    "            temp_list2.append(symptom)\n",
    "            \n",
    "        # Adds the preprocessed list of symptoms associated with the respective disease into a dictionary\n",
    "        cleaned_diseases_symptoms[key] = temp_list2\n",
    "\n",
    "    # Sorts the total unique symptoms in ascending order\n",
    "    unique_symptoms = list(unique_symptoms)\n",
    "    unique_symptoms.sort()\n",
    "    #print(len(unique_symptoms))\n",
    "    \n",
    "    return unique_symptoms, cleaned_diseases_symptoms\n"
   ]
  },
  {
   "cell_type": "code",
   "execution_count": 10,
   "metadata": {
    "id": "zlDV-zn9cj_C"
   },
   "outputs": [],
   "source": [
    "# Defines a function to return the list of synonyms of the input word from thesauras.com and wordnet\n",
    "# This is a helper method for getSymptomSynonyms()\n",
    "\n",
    "def getSynonymsFromThesaurusAndWithNLP(term):\n",
    "    synonyms = []\n",
    "    response = requests.get('https://www.thesaurus.com/browse/{}'.format(term))\n",
    "    thesaurusContents = BeautifulSoup(response.content,  \"html.parser\")\n",
    "    \n",
    "    # Exception handling\n",
    "    try:\n",
    "        container = thesaurusContents.find('section', {'class': 'MainContentContainer'}) \n",
    "        row = container.find('div',{'class':'css-191l5o0-ClassicContentCard'})\n",
    "        row = row.find_all('li')\n",
    "        for synonym in row:\n",
    "            synonyms.append(synonym.get_text())\n",
    "    except:\n",
    "        None\n",
    "        \n",
    "    for synonym in wordnet.synsets(term):\n",
    "        synonyms += synonym.lemma_names()\n",
    "        \n",
    "    return set(synonyms) "
   ]
  },
  {
   "cell_type": "code",
   "execution_count": 11,
   "metadata": {
    "id": "_JuHsFD-cmKW"
   },
   "outputs": [],
   "source": [
    "# Defines a method to store each symptom's synonyms as a list of words\n",
    "# We consider several combinations of symptoms possible => All possible subsets of symptoms a disease can have\n",
    "# This step takes 20-30 minutes\n",
    "\n",
    "def getSymptomSynonyms(unique_symptoms):\n",
    "    \n",
    "    symptom_synonyms = dict()\n",
    "    count = 0\n",
    "    \n",
    "    for symptom in unique_symptoms:\n",
    "        count = count + 1\n",
    "        if count % 50 == 0:\n",
    "            print(\"Processed \", count, \" unique symptoms\")\n",
    "            \n",
    "        symp = symptom.split()\n",
    "        all_symptom_combinations = set()\n",
    "        \n",
    "        for combination in range(1, len(symp)+1):\n",
    "            for subset in combinations(symp, combination):\n",
    "                subset = ' '.join(subset)\n",
    "                subset = getSynonymsFromThesaurusAndWithNLP(subset) \n",
    "                all_symptom_combinations.update(subset)\n",
    "         \n",
    "        # Update & process stored_symptoms\n",
    "        all_symptom_combinations.add(symptom)\n",
    "        all_symptom_combinations = ' '.join(all_symptom_combinations).replace('_',' ').lower()\n",
    "        all_symptom_combinations = list(set(all_symptom_combinations.split()))\n",
    "        all_symptom_combinations.sort()\n",
    "        \n",
    "        symptom_synonyms[symptom] = all_symptom_combinations\n",
    "        #print(symptom, \":\", all_symptom_combinations)\n",
    "        \n",
    "    return symptom_synonyms\n",
    "        "
   ]
  },
  {
   "cell_type": "code",
   "execution_count": 12,
   "metadata": {
    "id": "CiNUqpF4coaC"
   },
   "outputs": [],
   "source": [
    "# Defines a function to find similarity between each symptom pair & eliminate the redundant ones\n",
    "# For this, we find the Jaccard score\n",
    "# If Jaccard > threshold, then those synonyms are similar and one of them can be used in place of another\n",
    "\n",
    "def getUniqueSymptomsWithUniqueMeaning(unique_symptoms, symptom_synonyms):\n",
    "    \n",
    "    unique_symptoms = sorted(unique_symptoms, key=len, reverse=True) \n",
    "    matched_symptoms = dict()\n",
    "    final_symptoms = set()\n",
    "    \n",
    "    for i, symptom_i in enumerate(unique_symptoms):\n",
    "        for j in range(i+1, len(unique_symptoms)):\n",
    "            \n",
    "            symptom_j = unique_symptoms[j]\n",
    "            synonyms_of_symptom_i = set(symptom_synonyms[symptom_i])\n",
    "            synonyms_of_symptom_j = set(symptom_synonyms[symptom_j])\n",
    "            \n",
    "            # Finds Jaccard similarity: Lengths of Intersection over Union computation\n",
    "            jaccard = len(synonyms_of_symptom_i.intersection(synonyms_of_symptom_j)) / len(synonyms_of_symptom_i.union(synonyms_of_symptom_j))\n",
    "            \n",
    "            if jaccard > 0.75:\n",
    "                #print(symptom_i, \"->\", symptom_j)\n",
    "                # Store similar symptoms in dictionary by replacing as matched_symptoms[symptom_j] = symptom_i\n",
    "                if symptom_i in matched_symptoms.keys():\n",
    "                    matched_symptoms[symptom_j] =  matched_symptoms[symptom_i]\n",
    "                else:\n",
    "                    matched_symptoms[symptom_j] = symptom_i\n",
    "                    \n",
    "    # Gets rid of common symptoms\n",
    "    final_symptoms = set(unique_symptoms).difference(set(matched_symptoms.keys()))\n",
    "    \n",
    "    #print(len(new_symptoms))\n",
    "    #print(matched_symptoms)\n",
    "    \n",
    "    # Sort the final list of symptoms obtained\n",
    "    final_unique_symptoms = list(final_symptoms)\n",
    "    final_unique_symptoms.sort()\n",
    "    final_unique_symptoms = ['Disease_Name'] + final_unique_symptoms\n",
    "    \n",
    "    return final_unique_symptoms, matched_symptoms\n",
    "    "
   ]
  },
  {
   "cell_type": "code",
   "execution_count": 24,
   "metadata": {
    "id": "R3iDRG-k2HZW"
   },
   "outputs": [],
   "source": [
    "# Defines a function that performs statistical analysis on the dataset we have\n",
    "# After trying multiple alternatives and running for about a 100 times, I decided to leave few diseases \n",
    "# As they are outliers because 99% of the data falls below the length of 12 Symptoms\n",
    "\n",
    "def analyzeDataAndClean(cleaned_diseases_symptoms):\n",
    "\n",
    "    # Analyze the max, min & individual counts of symptoms associated with a disease\n",
    "    maxLength = 0\n",
    "    minLength = 0\n",
    "    counts = dict()\n",
    "\n",
    "    for key,values in cleaned_diseases_symptoms.items():\n",
    "        count_val = 1\n",
    "        count_key = \"Length\" + str(len(values))\n",
    "        if count_key in counts:\n",
    "            count_val = counts.get(count_key) + 1\n",
    "        counts[count_key] = count_val\n",
    "\n",
    "        if len(values) > maxLength:\n",
    "            maxLength = len(values)\n",
    "        if len(values) < minLength:\n",
    "            minLength = len(values)\n",
    "\n",
    "    print(\"Minimum length of symptoms associated with any disease is: \", minLength)\n",
    "    print(\"Maximum length of symptoms associated with any disease is: \", maxLength, \"\\n\")\n",
    "    print(counts)  \n",
    "    "
   ]
  },
  {
   "cell_type": "code",
   "execution_count": 26,
   "metadata": {
    "id": "RFwSDGXKczZL"
   },
   "outputs": [],
   "source": [
    "# Defines a function to create CSV files with the data for Normal dataset\n",
    "# This step takes 5-10 mins\n",
    "\n",
    "def saveDataToNormalCSVfile(final_unique_symptoms, matched_symptoms, cleaned_diseases_symptoms):\n",
    "\n",
    "    # Initialize a dataframe for normal dataset\n",
    "    normal_df = pd.DataFrame(columns=final_unique_symptoms)\n",
    "    count = 0\n",
    "    \n",
    "    # Read each disease and corresponding symptom list, convert it into dictionary and add to dataframe\n",
    "    for key, values in cleaned_diseases_symptoms.items():\n",
    "\n",
    "        # We remove length 31 symptoms because it is the only thing which falls in the outliers category\n",
    "        if len(values) > 15 :\n",
    "            continue\n",
    "\n",
    "        count = count + 1\n",
    "        if count % 50 == 0:\n",
    "            print(\"Processed \", count, \" symptoms\")\n",
    "        \n",
    "        key = str.encode(key).decode('utf-8')\n",
    "        unique_values = []\n",
    "\n",
    "        if '' in values:\n",
    "            values.remove('')\n",
    "        \n",
    "        # For similar symptoms, replace with the value in dictionary\n",
    "        for symptom in values:\n",
    "            if symptom in matched_symptoms.keys():\n",
    "                unique_values.append(matched_symptoms[symptom])\n",
    "            else:\n",
    "                unique_values.append(symptom)\n",
    "\n",
    "        values = list(set(unique_values))\n",
    "        cleaned_diseases_symptoms[key] = values\n",
    "        #print(key, \"---> \", values, \"\\n\")\n",
    "        \n",
    "        # Populate a row in normal dataset\n",
    "        normal_row = dict({x:0 for x in final_unique_symptoms})\n",
    "        \n",
    "        for symptom in values:\n",
    "            normal_row[symptom] = 1  \n",
    "        normal_row['Disease_Name'] = key\n",
    "        \n",
    "        # Append row to the normal dataset's dataframe\n",
    "        normal_df = normal_df.append(pd.Series(normal_row), ignore_index=True)\n",
    "\n",
    "    normal_df.to_csv(\"drive/MyDrive/Dataset/Disease_Symptom_Dataset_For_Respective_Symptoms.csv\", index=None)\n"
   ]
  },
  {
   "cell_type": "code",
   "execution_count": 31,
   "metadata": {
    "id": "mkv_XouOdRoQ"
   },
   "outputs": [],
   "source": [
    "# Defines a function to create CSV files with the data for Combination dataset\n",
    "# This step takes 25-30 mins\n",
    "\n",
    "def saveDataToCombinationCSVfile(final_unique_symptoms, matched_symptoms, cleaned_diseases_symptoms):\n",
    "    \n",
    "    # Initialize a dataframe for combination dataset\n",
    "    combination_df = pd.DataFrame(columns=final_unique_symptoms)\n",
    "    count = 0\n",
    "\n",
    "    # Read each disease and corresponding symptom list, convert it into dictionary and add to dataframe\n",
    "    for key, values in cleaned_diseases_symptoms.items():\n",
    "\n",
    "       # We remove length 31 symptoms because it is the only thing which falls in the outliers category\n",
    "        if len(values) > 15 :\n",
    "            continue\n",
    "\n",
    "        count = count + 1\n",
    "        if count % 50 == 0:\n",
    "            print(\"\\n\\nProcessed \", count, \" diseases\\n\\n\")\n",
    "\n",
    "        key = str.encode(key).decode('utf-8')\n",
    "        unique_values = []\n",
    "\n",
    "        if '' in values:\n",
    "            values.remove('')\n",
    "        \n",
    "        # For similar symptoms, replace with the value in dictionary\n",
    "        for symptom in values:\n",
    "            if symptom in matched_symptoms.keys():\n",
    "                unique_values.append(matched_symptoms[symptom])\n",
    "            else:\n",
    "                unique_values.append(symptom)\n",
    "\n",
    "        values = list(set(unique_values))\n",
    "        cleaned_diseases_symptoms[key] = values\n",
    "        print(key, \"---> \", values)\n",
    "\n",
    "        # So, based on this analysis on max & min of symptoms associated with a disease, we crunch the no. of subsets by increasing min subset length\n",
    "        # Here, we consider the upper cap and take floor of that number as the minimum length of the subset\n",
    "        # We use this length while making the subsets\n",
    "        # This helps us to form a sensible dataset\n",
    "        minSubsetLength = 0\n",
    "        symptomsLength = len(values)\n",
    "\n",
    "        # Consider subsets starting from length 1\n",
    "        if symptomsLength <= 5:\n",
    "            minSubsetLength = 1\n",
    "\n",
    "        # Consider subsets starting from length 40% of symptoms length\n",
    "        elif symptomsLength > 5 and symptomsLength <= 10:\n",
    "            minSubsetLength = math.floor(symptomsLength * 0.4)\n",
    "\n",
    "        # Consider subsets starting from length 50% of symptoms length\n",
    "        elif symptomsLength >10 and symptomsLength <= 15:\n",
    "            minSubsetLength = math.floor(symptomsLength * 0.5)\n",
    "\n",
    "        # Populate all possible subset rows for combination dataset\n",
    "        for combination in range(minSubsetLength, len(values) + 1):\n",
    "            for subset in combinations(values, combination):\n",
    "                combination_row = dict({x:0 for x in final_unique_symptoms})\n",
    "                for symptom in list(subset):\n",
    "                    combination_row[symptom] = 1\n",
    "                    \n",
    "                #print(list(subset))\n",
    "                combination_row['Disease_Name'] = key\n",
    "                \n",
    "                # Append row to the combination dataset's dataframe for each combination\n",
    "                combination_df = combination_df.append(pd.Series(combination_row), ignore_index=True)\n",
    "                \n",
    "                #try:\n",
    "                    #matches = combination_df[(combination_df == comb_row).all(axis=1)]\n",
    "                    #pandas.concat([df1,df2]).drop_duplicates().reset_index(drop=True)\n",
    "                    #pd.concat([df1,df2], ignore_index=True)..drop_duplicates('Disease_Name')\n",
    "                    #combination_df = combination_df.append(pd.Series(combination_row), ignore_index=True)\n",
    "                #except Exception as e:\n",
    "                    #print(str(e))\n",
    "                             \n",
    "    # Exports the dataset into CSV files      \n",
    "    combination_df.to_csv(\"drive/MyDrive/Dataset/Disease_Symptom_Dataset_For_All_Symptom_Subsets.csv\", index=None)\n"
   ]
  },
  {
   "cell_type": "code",
   "execution_count": 15,
   "metadata": {
    "colab": {
     "base_uri": "https://localhost:8080/"
    },
    "id": "fvZkSS4heBK7",
    "outputId": "cc1848b0-3cd7-4128-96ee-680bc424d7a2"
   },
   "outputs": [
    {
     "name": "stdout",
     "output_type": "stream",
     "text": [
      "\n",
      "---------- Started Data preprocessing !! ----------\n",
      "\n",
      "Finished reading data from the pickle file !\n"
     ]
    }
   ],
   "source": [
    "# Performs data preprocessing including NLP improvization\n",
    "print(\"\\n---------- Started Data preprocessing !! ----------\")\n",
    "\n",
    "# Obtains disease & respective symptoms data from the pickle file generated in Data Collection step\n",
    "disease_symptoms = readDiseaseSymptoms()\n",
    "print(\"\\nFinished reading data from the pickle file !\")\n"
   ]
  },
  {
   "cell_type": "code",
   "execution_count": 16,
   "metadata": {
    "colab": {
     "base_uri": "https://localhost:8080/"
    },
    "id": "mnxVamUymb3q",
    "outputId": "ac47a5ad-71d5-402e-f7ad-49119f910491"
   },
   "outputs": [
    {
     "name": "stdout",
     "output_type": "stream",
     "text": [
      "Obtained unique symptoms & cleaned disease-symptoms data !\n",
      "Total unique symptoms:  623 \n",
      "\n"
     ]
    }
   ],
   "source": [
    "# Obtains all the Unique symptoms & Cleaned disease symptoms\n",
    "\n",
    "unique_symptoms, cleaned_diseases_symptoms = getUniqueAndCleanedDiseaseSymptoms(disease_symptoms)\n",
    "print(\"Obtained unique symptoms & cleaned disease-symptoms data !\")\n",
    "print(\"Total unique symptoms: \", len(unique_symptoms), \"\\n\")\n"
   ]
  },
  {
   "cell_type": "code",
   "execution_count": 17,
   "metadata": {
    "colab": {
     "base_uri": "https://localhost:8080/"
    },
    "id": "mH1n2Wi8mhXA",
    "outputId": "527aca2a-7b23-4af2-bd64-fdca48b6a520"
   },
   "outputs": [
    {
     "name": "stdout",
     "output_type": "stream",
     "text": [
      "Processed  50  unique symptoms\n",
      "Processed  100  unique symptoms\n",
      "Processed  150  unique symptoms\n",
      "Processed  200  unique symptoms\n",
      "Processed  250  unique symptoms\n",
      "Processed  300  unique symptoms\n",
      "Processed  350  unique symptoms\n",
      "Processed  400  unique symptoms\n",
      "Processed  450  unique symptoms\n",
      "Processed  500  unique symptoms\n",
      "Processed  550  unique symptoms\n",
      "Processed  600  unique symptoms\n",
      "\n",
      "Obtained all synonyms associated with each symptom in all possible combinations !\n"
     ]
    }
   ],
   "source": [
    "# Obtains all the synonyms associated with each symptom in all possible combinations\n",
    "\n",
    "symptom_synonyms = getSymptomSynonyms(unique_symptoms)\n",
    "print(\"\\nObtained all synonyms associated with each symptom in all possible combinations !\")\n"
   ]
  },
  {
   "cell_type": "code",
   "execution_count": 28,
   "metadata": {
    "colab": {
     "base_uri": "https://localhost:8080/"
    },
    "id": "4KvThwNAmjnA",
    "outputId": "6440e1b3-5c9b-4b66-cf3b-a97d6ed9112f"
   },
   "outputs": [
    {
     "name": "stdout",
     "output_type": "stream",
     "text": [
      "Obtained unique symptoms with unique word sense !\n",
      "Total unique symptoms with unique word sense:  565 \n",
      "\n"
     ]
    }
   ],
   "source": [
    "# Obtains unique symptoms with unique meaning by removing similar sense symptoms\n",
    "\n",
    "final_unique_symptoms, matched_symptoms = getUniqueSymptomsWithUniqueMeaning(unique_symptoms, symptom_synonyms)\n",
    "if '' in final_unique_symptoms:\n",
    "    final_unique_symptoms.remove('')\n",
    "print(\"Obtained unique symptoms with unique word sense !\")\n",
    "print(\"Total unique symptoms with unique word sense: \", len(final_unique_symptoms), \"\\n\")\n"
   ]
  },
  {
   "cell_type": "code",
   "execution_count": 25,
   "metadata": {
    "colab": {
     "base_uri": "https://localhost:8080/"
    },
    "id": "w_ezY_g53EcE",
    "outputId": "b3480020-eb6d-4410-9fc8-c853a5b6a434"
   },
   "outputs": [
    {
     "name": "stdout",
     "output_type": "stream",
     "text": [
      "Minimum length of symptoms associated with any disease is:  0\n",
      "Maximum length of symptoms associated with any disease is:  31 \n",
      "\n",
      "{'Length4': 53, 'Length3': 65, 'Length1': 52, 'Length5': 42, 'Length2': 37, 'Length9': 2, 'Length10': 1, 'Length6': 17, 'Length7': 10, 'Length8': 6, 'Length31': 1, 'Length11': 3, 'Length12': 1}\n",
      "Data analysis & clean up done !\n"
     ]
    }
   ],
   "source": [
    "# Perform data analysis & clean dataset\n",
    "\n",
    "analyzeDataAndClean(cleaned_diseases_symptoms)\n",
    "print(\"Data analysis & clean up done !\")\n"
   ]
  },
  {
   "cell_type": "code",
   "execution_count": 29,
   "metadata": {
    "colab": {
     "base_uri": "https://localhost:8080/"
    },
    "id": "C4uacIoomnoV",
    "outputId": "27729c5a-7c81-4de1-c961-ae6a462573c6"
   },
   "outputs": [
    {
     "name": "stdout",
     "output_type": "stream",
     "text": [
      "Processed  50  symptoms\n",
      "Processed  100  symptoms\n",
      "Processed  150  symptoms\n",
      "Processed  200  symptoms\n",
      "Processed  250  symptoms\n",
      "Saved data into Normal Dataset's CSV file !\n"
     ]
    }
   ],
   "source": [
    "# Saves data into CSV files - Part 1\n",
    "\n",
    "saveDataToNormalCSVfile(final_unique_symptoms, matched_symptoms, cleaned_diseases_symptoms)\n",
    "print(\"Saved data into Normal Dataset's CSV file !\")\n"
   ]
  },
  {
   "cell_type": "code",
   "execution_count": 32,
   "metadata": {
    "colab": {
     "base_uri": "https://localhost:8080/"
    },
    "id": "iAPzKChimpth",
    "outputId": "82eb1094-4236-4597-de11-e8b47a87859f"
   },
   "outputs": [
    {
     "name": "stdout",
     "output_type": "stream",
     "text": [
      "Abnormal uterine bleeding --->  ['abnormally frequent', 'prolonged cough', 'excessive amount uterine bleeding', 'irregular']\n",
      "Abscess --->  ['redness', 'ear pain', 'leg swelling']\n",
      "Acquired capillary haemangioma of eyelid --->  ['raised red blue lesion']\n",
      "Acquired immuno deficiency syndrome --->  ['flu like illness']\n",
      "Acute encephalitis syndrome --->  ['confusion', 'stiff neck', 'headache', 'nausea vomiting', 'fever']\n",
      "Adult inclusion conjunctivitis --->  ['scratchiness', 'reddish eye']\n",
      "Alcohol abuse and alcoholism --->  ['drinking large amount alcohol long period', 'difficulty cutting', 'acquiring drinking alcohol taking lot time', 'usage resulting problem', 'withdrawal occurring stopping']\n",
      "Alopecia (hair loss) --->  ['loss hair part head body']\n",
      "Alzheimer --->  ['problem language', 'disorientation', 'mood swing', 'memory loss']\n",
      "Amaurosis fugax --->  ['temporary fleeting vision one eye']\n",
      "Amblyopia --->  ['decreased vision']\n",
      "Amoebiasis --->  ['testicular pain', 'bloody diarrhea']\n",
      "Anaemia --->  ['pale skin', 'tiredness', 'shortness breath', 'feeling faint', 'weakness']\n",
      "Anaemia during pregnancy (maternal anemia) --->  ['confusion', 'decreased ability concentrate', 'lightheadedness', 'breathlessness', 'headache', 'feeling tired', 'weakness', 'pallor']\n",
      "Aniseikonia --->  ['object different size eye']\n",
      "Anisometropia --->  ['eye refractive power differs significantly']\n",
      "Antepartum hemorrhage (bleeding in late pregnancy) --->  ['increased heart rate respiration rate', 'feeling faint upon standing', 'increased breath rate', 'significant blood loss childbirth']\n",
      "Anthrax --->  ['shortness breath', 'chest pain', 'abscess', 'small blister surrounding swelling', 'nausea vomiting', 'testicular pain', 'fever', 'diarrhoea', 'nausea']\n",
      "Anxiety --->  ['fast heart rate', 'shakiness', 'worrying']\n",
      "Appendicitis --->  ['periumbilical right lower abdominal pain', 'nausea vomiting', 'decreased appetite']\n",
      "Apraxia --->  ['speech delay', 'oral motor planning']\n",
      "Arthritis --->  ['muscle joint pain', 'stiffness', 'redness', 'decreased range motion', 'leg swelling']\n",
      "Asbestos-related diseases --->  ['shortness breath', 'chest pain', 'wheezing', 'coughing']\n",
      "Aseptic meningitis --->  ['headache', 'fever', 'neck stiffness']\n",
      "Asthma --->  ['recurring episode wheezing', 'chest tightness', 'coughing', 'shortness breath']\n",
      "Astigmatism --->  ['headache', 'asthenopia', 'distorted blurred vision distance']\n",
      "Atrophy --->  ['sign ageing', 'loss body cell']\n",
      "Autism --->  ['presence restricted interest repetitive behavior', 'trouble social interaction', 'verbal nonverbal communication']\n",
      "Bad breath (halitosis) --->  ['unpleasant smell present breath']\n",
      "Bell's palsy --->  ['inability move facial muscle one side', 'change taste', 'pain around ear']\n",
      "Beriberi --->  ['shortness breath', 'wet', 'fast heart rate', 'leg swelling']\n",
      "Black death --->  ['headache', 'nausea vomiting', 'fever', 'swollen lymph node']\n",
      "Bleeding gums --->  ['swollen', 'red without blister', 'bleeding gum', 'bad breath', 'loose teeth', 'painful']\n",
      "Blepharitis --->  ['crusty eyelid']\n",
      "Blindness --->  ['decreased ability see']\n",
      "Botulism --->  ['feeling tired', 'trouble speaking', 'trouble seeing', 'weakness']\n",
      "Brain tumour --->  ['seizure', 'mental change', 'vary depending part brain involved', 'headache', 'nausea vomiting', 'problem vision']\n",
      "Breast cancer --->  ['fluid nipple', 'lump breast', 'change breast shape', 'red scaly patch skin breast', 'newly inverted nipple', 'dimpling skin']\n",
      "Bronchitis --->  ['chest discomfort', 'wheezing', 'coughing mucus', 'shortness breath']\n",
      "Brucellosis --->  ['coughing']\n",
      "Bunion --->  ['prominent', 'painful joint base big toe', 'red without blister']\n",
      "Burns --->  ['bone tendon loss', 'red without blister']\n",
      "Calculi --->  ['ear pain']\n",
      "Campylobacter infection --->  ['fever', 'diarrhoea', 'testicular pain']\n",
      "Cancer --->  ['unexplained weight loss', 'abnormal bleeding', 'painless lump', 'prolonged cough', 'change bowel movement']\n",
      "Candidiasis --->  ['itching', 'white patch vaginal discharge']\n",
      "Carbon monoxide poisoning --->  ['confusion', 'lightheadedness', 'chest pain', 'headache', 'nausea vomiting', 'weakness']\n",
      "Carpal tunnel syndrome --->  ['numbness', 'index', 'tingling thumb', 'middle finger', 'half ring finger']\n",
      "Cavities --->  ['ear pain', 'gradual loss coordination', 'difficulty eating']\n",
      "\n",
      "\n",
      "Processed  50  diseases\n",
      "\n",
      "\n",
      "Celiacs disease --->  ['abdominal distention', 'unexplained weight loss', 'constipation', 'none non specific', 'malabsorption', 'dermatitis herpetiformis', 'diarrhoea']\n",
      "Cerebral palsy --->  ['stiff muscle', 'tremor', 'poor coordination', 'weak muscle']\n",
      "Chagas disease --->  ['headache', 'fever', 'large lymph node']\n",
      "Chalazion --->  ['non painful cyst middle eyelid', 'red without blister']\n",
      "Chickenpox --->  ['small', 'tiredness', 'headache', 'loss appetite', 'fever', 'itchy blister']\n",
      "Chikungunya fever --->  ['muscle joint pain', 'fever']\n",
      "Childhood exotropia --->  ['nonaligned eye']\n",
      "Chlamydia --->  ['vaginal discharge', 'burning urination']\n",
      "Cholera --->  ['muscle cramp', 'large amount watery diarrhea', 'nausea vomiting']\n",
      "Chorea --->  ['involuntary movement', 'low muscle tone', 'motor vocal tic']\n",
      "Chronic fatigue syndrome --->  ['others', 'worsening symptom activity', 'long term fatigue']\n",
      "Chronic obstructive pulmonary disease (copd) --->  ['chronic cough', 'shortness breath']\n",
      "Cleft lip and cleft palate --->  ['opening upper lip may extend nose palate']\n",
      "Colitis --->  ['unexplained weight loss', 'testicular pain', 'anemia', 'fever', 'diarrhea mixed blood']\n",
      "Colorectal cancer --->  ['weakness fatigue', 'unexplained weight loss', 'blood stool', 'change bowel movement', 'vomiting blood']\n",
      "Common cold --->  ['runny nose', 'fever', 'sore throat', 'coughing']\n",
      "Condyloma --->  ['skin lesion generally pink color project outward']\n",
      "Congenital anomalies (birth defects) --->  ['developmental disability', 'intellectual disability', 'physical disability']\n",
      "Congestive heart disease --->  ['shortness breath', 'feeling tired', 'leg swelling']\n",
      "Corneal abrasion --->  ['eye pain photophobia', 'light sensitivity']\n",
      "Coronary heart disease --->  ['chest pain', 'shortness breath']\n",
      "Coronavirus disease 2019 (covid-19) --->  ['loss taste smell', 'case asymptomatic', 'weakness fatigue', 'shortness breath', 'nausea vomiting', 'coughing', 'fever']\n",
      "Cough --->  ['runny nose', 'fever', 'coughing']\n",
      "Cretinism --->  ['mental impairment', 'hair loss', 'goiter', 'poor growth', 'infertility']\n",
      "Crimean congo haemorrhagic fever (cchf) --->  ['headache', 'muscle pain', 'nausea vomiting', 'bleeding skin', 'fever', 'diarrhoea']\n",
      "Deafness --->  ['decreased ability hear']\n",
      "Dementia --->  ['emotional problem', 'decreased motivation', 'problem language', 'decreased ability think remember']\n",
      "Dengue --->  ['headache', 'muscle joint pain', 'fever', 'maculopapular rash']\n",
      "Diabetes mellitus --->  ['increased hunger', 'frequent urination']\n",
      "Diabetic retinopathy --->  ['blurry vision', 'may symptom', 'blindness', 'vision loss']\n",
      "Diarrhea --->  ['loose frequent bowel movement', 'symptom dehydration']\n",
      "Diphtheria --->  ['barking cough', 'fever', 'sore throat']\n",
      "Down's syndrome --->  ['characteristic facial feature', 'mild moderate intellectual disability', 'delayed physical growth']\n",
      "Dracunculiasis (guinea-worm disease) --->  ['painful blister white worm crawl']\n",
      "Dysentery --->  ['fever', 'testicular pain', 'bloody diarrhea']\n",
      "Ear infection --->  ['mayo clinic']\n",
      "Early pregnancy loss --->  ['vaginal bleeding without pain']\n",
      "Ebola --->  ['sore throat', 'headache', 'abnormal bleeding', 'muscular pain', 'fever', 'diarrhoea']\n",
      "Eclampsia --->  ['high blood pressure', 'seizure']\n",
      "Ectopic pregnancy --->  ['abnormal bleeding', 'testicular pain']\n",
      "Eczema --->  ['itchiness', 'red skin', 'maculopapular rash']\n",
      "Endometriosis --->  ['infertility', 'testicular pain']\n",
      "Epilepsy --->  ['period vigorous shaking', 'nearly undetectable spell']\n",
      "Erectile dysfunctions --->  ['inability gain maintain erection']\n",
      "Exposure keratopathy --->  ['redness', 'eye pain photophobia', 'dryness', 'irritation']\n",
      "Factitious keratoconjunctivitis --->  ['vaginal discharge', 'dry eye', 'irritation', 'redness', 'blurred vision']\n",
      "Fibroids --->  ['painful heavy period']\n",
      "Fibromyalgia --->  ['feeling tired', 'sleep problem', 'testicular pain']\n",
      "Filamentary keratitis --->  ['eye pain photophobia', 'vaginal discharge', 'photophobia', 'blurred vision', 'red eye', 'corneal ulceration']\n",
      "Filariasis --->  ['leg', 'breast', 'severe swelling arm', 'genitals']\n",
      "\n",
      "\n",
      "Processed  100  diseases\n",
      "\n",
      "\n",
      "Flu --->  ['weakness fatigue', 'runny nose', 'sore throat', 'headache', 'muscle pain', 'coughing', 'fever']\n",
      "Frey's syndrome --->  ['redness sweating cheek area salivating']\n",
      "Frost bite --->  ['pale color', 'numbness', 'clumsiness', 'feeling cold']\n",
      "Gaming disorder --->  ['depression', 'social withdrawal', 'problem gambling', 'playing video game extremely long period time']\n",
      "Gangrene --->  ['coolness', 'numbness', 'change skin color red black', 'skin breakdown', 'ear pain']\n",
      "Gastro-esophageal reflux disease (gerd) --->  ['taste acid', 'chest pain', 'bad breath', 'heartburn', 'difficulty breathing']\n",
      "Gastroenteritis --->  ['diarrhoea', 'nausea vomiting', 'fever', 'testicular pain']\n",
      "Genital herpes --->  ['flu like symptom', 'small blister break open form painful ulcer']\n",
      "Glaucoma --->  ['eye pain photophobia', 'vision loss', 'eye redness', 'mid dilated pupil', 'nausea']\n",
      "Goitre --->  ['unexplained weight loss', 'enlarged thyroid', 'poor tolerance heat', 'irritability', 'muscle weakness', 'sleeping problem', 'fast heartbeat']\n",
      "Gonorrhea --->  ['vaginal discharge', 'testicular pain', 'burning urination']\n",
      "Guillain-barré syndrome --->  ['muscle weakness beginning foot hand', 'usually ascending']\n",
      "Haemophilia --->  ['easy prolonged bleeding']\n",
      "Hand, foot and mouth disease --->  ['fever', 'flat discolored spot bump may blister']\n",
      "Heat-related illnesses and heat waves --->  ['confusion', 'increased heart rate respiration rate', 'lack perspiration', 'symptom dehydration', 'decreased blood pressure', 'delirium']\n",
      "Hepatitis --->  ['poor appetite', 'yellowish skin', 'testicular pain']\n",
      "Hepatitis a --->  ['dark urine', 'nausea vomiting', 'testicular pain', 'jaundice', 'fever', 'diarrhoea', 'nausea']\n",
      "Hepatitis b --->  ['tiredness', 'yellowish skin', 'testicular pain', 'dark urine']\n",
      "Hepatitis c --->  ['typically none']\n",
      "Hepatitis d --->  ['feeling tired', 'nausea vomiting']\n",
      "Hepatitis e --->  ['nausea', 'jaundice']\n",
      "Herpes simplex --->  ['swollen lymph node', 'fever', 'small blister break open form painful ulcer']\n",
      "High risk pregnancy --->  ['increased hunger', 'frequent urination', 'tender breast', 'missed period', 'nausea vomiting']\n",
      "Human papillomavirus --->  ['wart']\n",
      "Hypermetropia --->  ['asthenopia', 'distance near blur']\n",
      "Hyperthyroidism --->  ['fast heartbeat', 'unexplained weight loss', 'irritability', 'sleeping problem', 'muscle weakness', 'diarrhoea', 'enlargement thyroid', 'heat intolerance']\n",
      "Hypervitaminosis a --->  ['usually asymptomatic']\n",
      "Hypothyroid --->  ['constipation', 'feeling tired', 'weight gain', 'poor ability tolerate cold']\n",
      "Hypotonia --->  ['muscle weakness']\n",
      "Ichthyosis --->  ['thick skin crack', 'characteristic facial feature']\n",
      "Ignious syndrome --->  ['cheekbone', 'nonaligned eye', 'chin', 'deformity ear']\n",
      "Impetigo --->  ['yellowish skin crust', 'painful']\n",
      "Inflammatory bowel disease --->  ['unexplained weight loss', 'fever', 'testicular pain', 'diarrhoea may bloody']\n",
      "Insomnia --->  ['low energy', 'trouble sleeping', 'daytime sleepiness', 'irritability', 'depressed mood']\n",
      "Interstitial cystitis --->  ['needing urinate often', 'chronic pain bladder', 'pain sex', 'feeling need urinate right away']\n",
      "Iritis --->  ['photophobia', 'burning redness eye', 'headache', 'blurred vision', 'red eye']\n",
      "Irritable bowel syndrome --->  ['constipation', 'diarrhoea', 'testicular pain']\n",
      "Japanese encephalitis --->  ['confusion', 'seizure', 'headache', 'nausea vomiting', 'fever']\n",
      "Jaundice --->  ['itchiness', 'yellowish coloration skin white eye']\n",
      "Kala-azar/ leishmaniasis --->  ['low red blood cell', 'fever', 'dimpling skin', 'enlarged thyroid']\n",
      "Kaposi’s sarcoma --->  ['purple colored skin lesion']\n",
      "Keratoconus --->  ['blurry vision', 'light sensitivity', 'nearsightedness']\n",
      "Kidney stone disease --->  ['blood urine', 'nausea vomiting', 'severe pain lower back abdomen', 'nausea']\n",
      "Kuru --->  ['body tremor', 'random outburst laughter', 'gradual loss coordination']\n",
      "Kwashiorkor --->  ['poor energy level', 'swollen leg abdomen', 'problem physical mental development', 'hair loss']\n",
      "Lactose intolerance --->  ['flatulence', 'testicular pain', 'bloating', 'diarrhoea', 'nausea']\n",
      "Laryngitis --->  ['hoarse voice', 'fever', 'ear pain']\n",
      "Lead poisoning --->  ['tingling hand foot', 'memory problem', 'intellectual disability', 'constipation', 'headache', 'irritability', 'testicular pain', 'inability child']\n",
      "Legionellosis --->  ['shortness breath', 'headache', 'muscle pain', 'coughing', 'fever']\n",
      "Leprosy --->  ['decreased ability feel pain']\n",
      "\n",
      "\n",
      "Processed  150  diseases\n",
      "\n",
      "\n",
      "Leptospirosis --->  ['headache', 'muscle pain', 'fever']\n",
      "Leukemia --->  ['weakness fatigue', 'increased risk infection', 'abnormal bleeding', 'bruising', 'fever']\n",
      "Lice --->  ['itching result trouble sleeping']\n",
      "Listeriosis --->  ['headache', 'fever', 'diarrhoea']\n",
      "Lung cancer --->  ['unexplained weight loss', 'chest pain', 'coughing including coughing blood', 'shortness breath']\n",
      "Lupus erythematosus --->  ['red rash', 'swollen lymph node', 'chest pain', 'mouth ulcer', 'hair loss', 'feeling tired', 'painful swollen joint', 'fever']\n",
      "Lyme disease --->  ['headache', 'expanding area redness site tick bite', 'fever', 'tiredness']\n",
      "Lymphoedema --->  ['limited range motion ankle', 'tenderness', 'erythema', 'ear pain', 'leg swelling']\n",
      "Lymphoma --->  ['enlarged lymph node neck', 'sweat', 'unexplained weight loss', 'feeling tired', 'itching', 'fever']\n",
      "Mad cow disease --->  ['unexplained weight loss', 'abnormal behavior', 'trouble walking', 'inability move']\n",
      "Malaria --->  ['headache', 'yellow skin', 'fever', 'nausea vomiting']\n",
      "Marburg fever --->  ['myalgia', 'fever', 'weakness']\n",
      "Mastitis --->  ['localized breast pain redness', 'fever']\n",
      "Mattticular syndrome --->  ['blurred vision center visual field']\n",
      "Measles --->  ['runny nose', 'maculopapular rash', 'coughing', 'inflamed eye', 'fever']\n",
      "Melanoma --->  ['skin breakdown', 'mole increasing size', 'irregular edge', 'change color', 'itchiness']\n",
      "Microcephaly --->  ['neurological impairment', 'abnormally small head brain']\n",
      "Middle east respiratory syndrome coronavirus (mers‐cov) --->  ['fever', 'coughing', 'shortness breath']\n",
      "Migraine --->  ['smell', 'headache', 'light sensitivity', 'sound', 'nausea']\n",
      "Mononucleosis --->  ['enlarged lymph node neck', 'fever', 'sore throat', 'tiredness']\n",
      "Morquio syndrome --->  ['coarse facial feature', 'umbilical hernia', 'hydrocephalus', 'variable may include macrocephaly', 'enlarged liver spleen', 'heart valve disease']\n",
      "Mouth breathing --->  ['snoring', 'dry mouth', 'weakness fatigue', 'bad breath', 'hoarse voice']\n",
      "Mouth ulcers --->  ['painful sore inside mouth white gray red border', 'swollen lymph node severe case', 'tingling burning sensation prior sore development', 'fever', 'sluggishness', 'round']\n",
      "Mucormycosis --->  ['black area skin', 'depends location runny nose', 'blurred vision', 'headache', 'coughing', 'facial swelling', 'fever']\n",
      "Multiple myeloma --->  ['pain specific bone', 'weakness fatigue']\n",
      "Mumps --->  ['malaise', 'parotitis non specific symptom fever', 'headache', 'loss appetite', 'muscle pain']\n",
      "Muscular dystrophy --->  ['increasing weakening', 'trouble walking', 'breakdown skeletal muscle']\n",
      "Myasthenia gravis --->  ['vision problem double vision', 'trouble talking', 'drooping eyelid', 'trouble walking', 'varying degree muscle weakness']\n",
      "Myelitis --->  ['weakness limb']\n",
      "Myocardial infarction (heart attack) --->  ['back', 'cramped jaw', 'shortness breath', 'stomach pain', 'chest pain', 'arm', 'cold sweat', 'feeling faint', 'feeling tired', 'neck', 'nausea']\n",
      "Myopia --->  ['headache', 'close object appear normal', 'eye strain', 'distant object appear blurry']\n",
      "Narcolepsy --->  ['sudden loss muscle strength', 'excessive daytime sleepiness', 'hallucination', 'involuntary sleep episode']\n",
      "Nasal polyps --->  ['trouble breathing nose', 'post nasal drip', 'runny nose', 'loss smell', 'decreased taste']\n",
      "Nausea and vomiting of pregnancy and  hyperemesis gravidarum --->  ['nausea vomiting weight loss dehydration occur']\n",
      "Necrotizing fasciitis --->  ['purple colored skin affected area', 'fever', 'severe pain']\n",
      "Neoplasm --->  ['painless lump']\n",
      "Neuralgia --->  ['episode severe', 'shock like pain one side face last second minute', 'sudden']\n",
      "Nipah virus infection --->  ['confusion', 'headache', 'coughing', 'fever', 'diarrhoea']\n",
      "Nonalcoholic fatty liver disease(nafld) --->  ['crusty red nodule', 'coordination issue', 'later stage', 'weakness fatigue', 'deposit cholesterol eye lid', 'asymptomatic early stage', 'lastly cause liver dysfunction eventually liver failure']\n",
      "Obesity --->  ['increased fat']\n",
      "Obsessive compulsive disorder --->  ['feel need check thing repeatedly', 'certain thought repeatedly', 'perform certain routine repeatedly']\n",
      "Oral cancer --->  ['difficulty swallowing', 'persistent rough white red patch mouth lasting longer week', 'lump bump neck', 'loose teeth', 'ear pain', 'ulceration']\n",
      "Orbital dermoid --->  ['minimal', 'painless lump']\n",
      "Orbital haemangiopericytoma --->  ['painless mass']\n",
      "Orbital varix --->  ['internal bleeding']\n",
      "Osteoarthritis --->  ['stiffness', 'muscle joint pain', 'decreased range motion', 'joint swelling']\n",
      "Osteomyelitis --->  ['fever', 'overlying redness', 'weakness', 'pain specific bone']\n",
      "Osteoporosis --->  ['increased risk broken bone']\n",
      "Otitis media --->  ['ear pain', 'fever', 'hearing impairment loss']\n",
      "Palindromic rheumatism --->  ['warm', 'multiple painful joint', 'swollen']\n",
      "\n",
      "\n",
      "Processed  200  diseases\n",
      "\n",
      "\n",
      "Paratyphoid fever --->  ['headache', 'fever', 'weakness', 'maculopapular rash']\n",
      "Parkinson's disease --->  ['difficulty walking', 'tremor', 'slowness movement', 'rigidity']\n",
      "Pellucid marginal degeneration --->  ['vision loss']\n",
      "Pelvic inflammatory disease --->  ['vaginal discharge', 'burning urination', 'fever', 'pain sex', 'lower abdominal pain', 'irregular menstruation']\n",
      "Perennial allergic conjunctivitis --->  ['red without blister', 'swelling around eye', 'itchy ear', 'watery eye', 'stuffy itchy nose', 'itchy', 'sneezing']\n",
      "Pericarditis --->  ['fever', 'better sitting worse lying', 'sharp chest pain']\n",
      "Peritonitis --->  ['swelling abdomen', 'fever', 'severe pain']\n",
      "Pinguecula --->  ['triangular tissue growth cornea', 'pinkish']\n",
      "Plague --->  ['headache', 'fever', 'weakness']\n",
      "Pneumonia --->  ['fever', 'difficulty breathing', 'coughing']\n",
      "Poliomyelitis --->  ['muscle weakness resulting inability move']\n",
      "Polycystic ovary syndrome (pcos) --->  ['excess hair', 'velvety skin', 'patch thick', 'testicular pain', 'acne', 'darker', 'difficulty getting pregnant', 'painful heavy period', 'irregular menstrual period']\n",
      "Porphyria --->  ['confusion', 'seizure', 'chest pain', 'constipation', 'nausea vomiting', 'fever', 'blister sunlight', 'depending subtype abdominal pain']\n",
      "Post-herpetic neuralgia --->  ['pain doesnt end shingle subsides', 'burning stabbing pain']\n",
      "Postpartum depression/ perinatal depression --->  ['low energy', 'irritability', 'cry episode', 'anxiety', 'change sleeping eating pattern', 'extreme sadness']\n",
      "Preeclampsia --->  ['high blood pressure', 'protein urine']\n",
      "Premenstrual syndrome --->  ['mood change', 'tender breast', 'abdominal bloating', 'feeling tired', 'acne']\n",
      "Presbyopia --->  ['headache', 'asthenopia', 'difficulty reading small print', 'hold reading material farther away']\n",
      "Preterm birth --->  ['birth baby younger week gestational age']\n",
      "Progeria --->  ['small face', 'growth delay', 'short height', 'hair loss']\n",
      "Psoriasis --->  ['red purple darker skin', 'itchy', 'scaly patch skin']\n",
      "Pubic lice --->  ['itch', 'grey blue mark', 'visible louse nit', 'scratch mark']\n",
      "Puerperal sepsis --->  ['fever', 'bad smelling thin vaginal discharge', 'lower abdominal pain']\n",
      "Pulmonary embolism --->  ['shortness breath', 'chest pain', 'coughing including coughing blood']\n",
      "Ques fever --->  ['shivering', 'feeling cold', 'chill']\n",
      "Quinsy --->  ['testicular pain', 'fever', 'change voice', 'trouble opening mouth']\n",
      "Rabies --->  ['confusion', 'fear water', 'paralysis', 'excessive salivation', 'trouble sleeping', 'coma', 'hallucination', 'fever']\n",
      "Raynaud's phenomenon --->  ['red without blister', 'affected part turning white', 'blue', 'burning urination']\n",
      "Repetitive strain injury --->  ['extremity weakness', 'aching', 'tingling', 'pulsing pain', 'sore wrist']\n",
      "Rheumatic fever --->  ['multiple painful joint', 'fever', 'involuntary muscle movement', 'erythema marginatum']\n",
      "Rickets --->  ['bowed leg', 'pain specific bone', 'trouble sleeping', 'large forehead', 'stunted growth']\n",
      "Rift valley fever --->  ['headache', 'muscle pain', 'fever']\n",
      "Rocky mountain spotted fever --->  ['headache', 'fever']\n",
      "Rubella --->  ['swollen lymph node', 'sore throat', 'maculopapular rash', 'feeling tired', 'fever']\n",
      "Salmonellosis --->  ['fever', 'diarrhoea', 'abdominal cramp', 'nausea vomiting']\n",
      "Sarcoidosis --->  ['depends organ involved']\n",
      "Sarcoma --->  ['swell pain near tumor']\n",
      "Sars --->  ['headache', 'muscle pain', 'persistent dry cough', 'fever', 'difficulty breathing']\n",
      "Scabies --->  ['pimple like rash', 'itchiness']\n",
      "Scarlet fever --->  ['swollen lymph node', 'sore throat', 'headache', 'characteristic rash', 'fever']\n",
      "Schizophrenia --->  ['paranoia', 'delusion', 'hallucination usually hearing voice', 'confused thinking']\n",
      "Sciatica --->  ['weakness numbness affected leg', 'pain going leg lower back']\n",
      "Scrapie --->  ['confusion', 'seizure', 'insomnia', 'psychosis', 'delirium', 'tremor', 'dementia']\n",
      "Scrub typhus --->  ['headache', 'fever', 'maculopapular rash']\n",
      "Scurvy --->  ['easy bleeding', 'sore arm leg', 'gum disease', 'change hair', 'feeling tired', 'weakness']\n",
      "Sepsis --->  ['confusion', 'increased heart rate respiration rate', 'absent near absent urine output', 'increased breathing rate', 'low blood pressure', 'severe pain', 'fever', 'low urine output']\n",
      "Sexually transmitted infections (stis) --->  ['vaginal discharge', 'ulcer around genitals', 'testicular pain']\n",
      "Shaken baby syndrome --->  ['variable']\n",
      "Shigellosis --->  ['fever', 'diarrhoea', 'testicular pain']\n",
      "Shin splints --->  ['pain along inside edge shinbone']\n",
      "\n",
      "\n",
      "Processed  250  diseases\n",
      "\n",
      "\n",
      "Shingles --->  ['painful rash occurring stripe']\n",
      "Sickle-cell anemia --->  ['swelling hand foot', 'stroke', 'bacterial infection', 'anemia', 'attack pain']\n",
      "Sids --->  ['death child le one year age']\n",
      "Smallpox --->  ['fluid filled blister scab', 'fever', 'mouth sore', 'nausea vomiting']\n",
      "Spinal cord injury --->  ['numbness', 'abnormal reflex', 'weakness', 'testicular pain', 'loss bladder bowel control']\n",
      "Stevens-johnson syndrome --->  ['skin blister', 'red eye', 'painful skin', 'fever', 'skin peeling']\n",
      "Stomach ulcers --->  ['yellowing skin white eye difficulty swallowing', 'upper abdominal pain', 'blood stool', 'unexplained weight loss', 'loss appetite', 'nausea vomiting', 'weight gain', 'bloating', 'heartburn', 'belching', 'nausea']\n",
      "Strep throat --->  ['fever', 'sore throat', 'large lymph node']\n",
      "Stroke --->  ['loss vision one side', 'lightheadedness', 'inability move feel one side body', 'problem understanding speaking']\n",
      "Sub-conjunctival haemorrhage --->  ['red spot white eye', 'little pain']\n",
      "Superior limbic keratoconjunctivitis --->  ['eye redness', 'burning sensation', 'tearing']\n",
      "Syphilis --->  ['non itchy skin ulcer', 'painless', 'firm']\n",
      "Taeniasis --->  ['unexplained weight loss', 'testicular pain']\n",
      "Taeniasis/cysticercosis --->  ['cm lump skin']\n",
      "Tay-sachs disease --->  ['crawl', 'sit', 'decreased ability turn']\n",
      "Tennis elbow --->  ['painful tender outer part elbow']\n",
      "Tetanus --->  ['cramped jaw', 'sweating', 'muscle problem spasm', 'seizure', 'headache', 'trouble swallowing', 'fever']\n",
      "Thalassaemia --->  ['pale skin', 'yellowish skin', 'feeling tired', 'dark urine', 'enlarged liver spleen']\n",
      "Tinnitus --->  ['hearing sound external sound present']\n",
      "Tonsillitis --->  ['sore throat', 'large lymph node around neck', 'enlargement tonsil', 'trouble swallowing', 'fever']\n",
      "Toxic shock syndrome --->  ['fever', 'skin peeling', 'low blood pressure', 'maculopapular rash']\n",
      "Trachoma --->  ['eye pain photophobia', 'blindness']\n",
      "Trichinosis --->  ['nausea vomiting', 'diarrhoea', 'testicular pain']\n",
      "Trichomoniasis --->  ['itching genital area', 'pain sex', 'bad smelling thin vaginal discharge', 'burning urination']\n",
      "Trisomy --->  ['tall stature', 'skeletal anomaly', 'minor neurocognitive behavioural difficulty']\n",
      "Tuberculosis --->  ['unexplained weight loss', 'cough bloody mucus', 'fever', 'chronic cough']\n",
      "Tularemia --->  ['fever', 'dimpling skin', 'large lymph node']\n",
      "Turners syndrome --->  ['webbed neck', 'short stature', 'swollen hand foot']\n",
      "Typhoid / enteric fever --->  ['sweating', 'diarrhea constipation', 'weakness fatigue', 'unexplained weight loss', 'stomach pain', 'fever start low increase daily', 'dry cough', 'maculopapular rash', 'swollen stomach enlarged liver spleen', 'loss appetite', 'possibly reaching high f c headache', 'muscle ache']\n",
      "Urticaria --->  ['raised', 'itchy bump', 'red without blister']\n",
      "Varicose veins --->  ['fullness', 'pain area']\n",
      "Vasovagal syncope --->  ['ringing ear', 'loss consciousness may sweating', 'decreased ability see']\n",
      "Vitamin b12 deficiency --->  ['lightheadedness', 'pin needle sensation', 'tiredness', 'change reflex', 'breathlessness', 'headache', 'depression', 'irritability', 'decreased ability think remember', 'anemia', 'heartburn']\n",
      "Vitiligo --->  ['patch white skin']\n",
      "Warts --->  ['small', 'painless', 'rough skin growth']\n",
      "West nile fever --->  ['headache', 'vomiting diarrhea muscle ache rash', 'fever']\n",
      "Xerophthalmia --->  ['night blindness']\n",
      "Yaws --->  ['joint bone pain', 'hard swelling skin', 'ulceration']\n",
      "Yellow fever --->  ['yellow skin', 'headache', 'muscle pain', 'fever', 'chill']\n",
      "Zika virus disease --->  ['muscle joint pain', 'sometimes none', 'maculopapular rash', 'headache', 'red eye', 'fever']\n",
      "Saved data into Combination Dataset's CSV file !\n",
      "\n",
      "---------- Finished Data preprocessing successfully !! ----------\n"
     ]
    }
   ],
   "source": [
    "# Saves data into CSV files - Part 2\n",
    "\n",
    "saveDataToCombinationCSVfile(final_unique_symptoms, matched_symptoms, cleaned_diseases_symptoms)\n",
    "print(\"Saved data into Combination Dataset's CSV file !\")\n",
    "print(\"\\n---------- Finished Data preprocessing successfully !! ----------\")\n"
   ]
  }
 ],
 "metadata": {
  "colab": {
   "collapsed_sections": [],
   "name": "DataPreprocessing.ipynb",
   "provenance": []
  },
  "kernelspec": {
   "display_name": "Python 3",
   "language": "python",
   "name": "python3"
  },
  "language_info": {
   "codemirror_mode": {
    "name": "ipython",
    "version": 3
   },
   "file_extension": ".py",
   "mimetype": "text/x-python",
   "name": "python",
   "nbconvert_exporter": "python",
   "pygments_lexer": "ipython3",
   "version": "3.8.8"
  }
 },
 "nbformat": 4,
 "nbformat_minor": 4
}
