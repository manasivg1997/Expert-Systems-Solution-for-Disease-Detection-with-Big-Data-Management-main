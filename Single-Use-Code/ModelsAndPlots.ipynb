{
 "cells": [
  {
   "cell_type": "markdown",
   "id": "bf0beb46-9353-4be6-b0e9-9182ac2c67e0",
   "metadata": {},
   "source": [
    "## This module builds Machine Learning models on the data & visualize their accuracies with & without Cross validation"
   ]
  },
  {
   "cell_type": "code",
   "execution_count": 1,
   "id": "9f9ca4c1-b272-4954-92ad-9aca67d01104",
   "metadata": {},
   "outputs": [],
   "source": [
    "# Filter & ignore warnings for clear output visualization\n",
    "\n",
    "import warnings\n",
    "warnings.filterwarnings(\"ignore\")"
   ]
  },
  {
   "cell_type": "code",
   "execution_count": 2,
   "id": "c766af1b-ca31-4d83-916c-84f9099664b2",
   "metadata": {},
   "outputs": [],
   "source": [
    "# Import all necessary packages\n",
    "\n",
    "import os\n",
    "import pandas as pd\n",
    "from decimal import Decimal\n",
    "import matplotlib.pyplot as plt1\n",
    "import matplotlib.pyplot as plt2\n",
    "from sklearn.model_selection import train_test_split, cross_val_score"
   ]
  },
  {
   "cell_type": "code",
   "execution_count": 3,
   "id": "3a1f4d18-1839-443f-b6fd-d18f572d9702",
   "metadata": {},
   "outputs": [],
   "source": [
    "# Import packages associated with the ML models considered\n",
    "\n",
    "from sklearn.naive_bayes import MultinomialNB\n",
    "from sklearn.neighbors import KNeighborsClassifier\n",
    "from sklearn.ensemble import RandomForestClassifier\n",
    "from sklearn.linear_model import LogisticRegression"
   ]
  },
  {
   "cell_type": "code",
   "execution_count": 4,
   "id": "6724c74d-5bde-4ade-9f1a-e93b595931ee",
   "metadata": {},
   "outputs": [],
   "source": [
    "# Import packages associated with Model Evaluation to get a numerical analysis\n",
    "\n",
    "from sklearn.metrics import recall_score\n",
    "from sklearn.metrics import accuracy_score\n",
    "from sklearn.metrics import precision_score\n",
    "from sklearn.metrics import confusion_matrix\n",
    "from sklearn.metrics import classification_report"
   ]
  },
  {
   "cell_type": "code",
   "execution_count": 5,
   "id": "6f5bf3d5-1f35-40d2-9dd7-17cb846966ad",
   "metadata": {},
   "outputs": [],
   "source": [
    "# Define global variables we use throughout\n",
    "current_directory = os.getcwd()\n",
    "current_directory = current_directory.replace(\"/Single-Use-Code\", \"\")\n",
    "data_path = current_directory + \"/Datasets-CSV\"\n",
    "\n",
    "data = pd.read_csv(data_path + \"/Disease_Symptom_Dataset_For_All_Symptom_Subsets.csv\")\n",
    "X = data.iloc[:, 1:]\n",
    "Y = data.iloc[:, 0:1]\n",
    "\n",
    "# Split with 85%-15% ratio\n",
    "x_train, x_test, y_train, y_test = train_test_split(X, Y, test_size=0.15)\n",
    "\n",
    "# Variables to store the accuracies with & without cross validation\n",
    "model_list = []\n",
    "model_accuracy_with_cross_validation = []\n",
    "model_accuracy_without_cross_validation = []"
   ]
  },
  {
   "cell_type": "markdown",
   "id": "9d98ef55-b14d-4bf3-958d-f5f63cb997b2",
   "metadata": {},
   "source": [
    "### Functions to use Machine Learning Models"
   ]
  },
  {
   "cell_type": "code",
   "execution_count": 6,
   "id": "60a6cea4-e65a-4b48-898e-998d4ac89806",
   "metadata": {},
   "outputs": [],
   "source": [
    "# Defines a function to use Logistic Regression \n",
    "\n",
    "def LogisticRegressionModel():\n",
    "    \n",
    "    global x_train, x_test, y_train, y_test\n",
    "    \n",
    "    # Create Logistic Regression Classifier & fit the data to it\n",
    "    lr_classifier = LogisticRegression()\n",
    "    lr_classifier = lr_classifier.fit(x_train, y_train)\n",
    "    \n",
    "    # Make predictions based using Logistic Regression\n",
    "    lr_prediction = lr_classifier.predict(x_test)\n",
    "    \n",
    "    # Find the accuracy obtained\n",
    "    lr_accuracy = round(Decimal(accuracy_score(y_test, lr_prediction) * 100), 2)\n",
    "    \n",
    "    # Append accuracy to the global list\n",
    "    model_list.append(\"LR\")\n",
    "    model_accuracy_without_cross_validation.append(lr_accuracy)\n",
    "    \n",
    "    # Using cross validation with 5 splits \n",
    "    lr_accuracies = cross_val_score(lr_classifier, X, Y, cv=10)\n",
    "    \n",
    "    # Find the cross validation accuracy by taking mean over obtained accuracies\n",
    "    lr_mean_accuracy = round(Decimal(lr_accuracies.mean() * 100), 2)\n",
    "    model_accuracy_with_cross_validation.append(lr_mean_accuracy)\n",
    "    \n",
    "    # Track the results\n",
    "    print(\"\\n----- LOGISTIC REGRESSION -----\")\n",
    "    \n",
    "    print(f\"Accuracy without cross validation: {lr_accuracy}%\")\n",
    "    print(f\"Accuracy with cross validation: {lr_mean_accuracy}%\")\n",
    "    print(\"\\nTop few rows of the Classification Report: \")\n",
    "    classification_report_result = classification_report(y_test, lr_prediction, output_dict=True)\n",
    "    dataframe = pd.DataFrame(classification_report_result).transpose()\n",
    "    print(dataframe.head().to_string())\n",
    "    #print(dataframe.to_string())\n",
    "    "
   ]
  },
  {
   "cell_type": "code",
   "execution_count": 7,
   "id": "ea5075d3-85db-45d4-b7c8-c76b08d8de22",
   "metadata": {},
   "outputs": [],
   "source": [
    "# Defines a function to use Random Forest Classifier\n",
    "\n",
    "def RandomForestModel():\n",
    "    \n",
    "    global x_train, x_test, y_train, y_test\n",
    "    \n",
    "    # Create Random Forest Classifier & fit the data to it\n",
    "    rf_classifier = RandomForestClassifier(n_estimators=10, criterion='entropy')\n",
    "    rf_classifier = rf_classifier.fit(x_train, y_train)\n",
    "    \n",
    "    # Make predictions based using Logistic Regression\n",
    "    rf_prediction = rf_classifier.predict(x_test)\n",
    "    \n",
    "    # Find the accuracy obtained\n",
    "    rf_accuracy = round(Decimal(accuracy_score(y_test, rf_prediction) * 100), 2)\n",
    "    \n",
    "    # Append accuracy to the global list\n",
    "    model_list.append(\"RF\")\n",
    "    model_accuracy_without_cross_validation.append(rf_accuracy)\n",
    "    \n",
    "    # Using cross validation with 5 splits \n",
    "    rf_accuracies = cross_val_score(rf_classifier, X, Y, cv=10)\n",
    "    \n",
    "    # Find the cross validation accuracy by taking mean over obtained accuracies\n",
    "    rf_mean_accuracy = round(Decimal(rf_accuracies.mean() * 100), 2)\n",
    "    model_accuracy_with_cross_validation.append(rf_mean_accuracy)\n",
    "    \n",
    "    # Track the results\n",
    "    print(\"\\n----- RANDOM FOREST -----\")\n",
    "    print(f\"Accuracy without cross validation: {rf_accuracy}%\")\n",
    "    print(f\"Accuracy with cross validation: {rf_mean_accuracy}%\")\n",
    "    print(\"Top few rows of Classification Report: \")\n",
    "    classification_report_result = classification_report(y_test, rf_prediction, output_dict=True)\n",
    "    dataframe = pd.DataFrame(classification_report_result).transpose()\n",
    "    print(dataframe.head().to_string())\n",
    "    #print(dataframe.to_string())\n",
    "    "
   ]
  },
  {
   "cell_type": "code",
   "execution_count": 8,
   "id": "d81af428-6e99-472a-bdf6-ca24545f5f0b",
   "metadata": {},
   "outputs": [],
   "source": [
    "# Defines a function to use KNN Classifier\n",
    "\n",
    "def KnnModel():\n",
    "    \n",
    "    global x_train, x_test, y_train, y_test\n",
    "    \n",
    "    # Create KNN Classifier & fit the data to it\n",
    "    knn_classifier = KNeighborsClassifier(n_neighbors=10, weights='distance', n_jobs=4)\n",
    "    knn_classifier = knn_classifier.fit(x_train, y_train)\n",
    "    \n",
    "    # Make predictions based using Logistic Regression\n",
    "    knn_prediction = knn_classifier.predict(x_test)\n",
    "    \n",
    "    # Find the accuracy obtained\n",
    "    knn_accuracy = round(Decimal(accuracy_score(y_test, knn_prediction) * 100), 2)\n",
    "    \n",
    "    # Append accuracy to the global list\n",
    "    model_list.append(\"KNN\")\n",
    "    model_accuracy_without_cross_validation.append(knn_accuracy)\n",
    "    \n",
    "    # Using cross validation with 5 splits \n",
    "    knn_accuracies = cross_val_score(knn_classifier, X, Y, cv=10)\n",
    "    \n",
    "    # Find the cross validation accuracy by taking mean over obtained accuracies\n",
    "    knn_mean_accuracy = round(Decimal(knn_accuracies.mean() * 100), 2)\n",
    "    model_accuracy_with_cross_validation.append(knn_mean_accuracy)\n",
    "    \n",
    "    # Track the results\n",
    "    print(\"\\n----- KNN CLASSIFIER -----\")\n",
    "    print(f\"Accuracy without cross validation: {knn_accuracy}%\")\n",
    "    print(f\"Accuracy with cross validation: {knn_mean_accuracy}%\")\n",
    "    print(\"Top few rows of Classification Report: \")\n",
    "    classification_report_result = classification_report(y_test, knn_prediction, output_dict=True)\n",
    "    dataframe = pd.DataFrame(classification_report_result).transpose()\n",
    "    print(dataframe.head().to_string())\n",
    "    #print(dataframe.to_string())\n",
    "    "
   ]
  },
  {
   "cell_type": "code",
   "execution_count": 9,
   "id": "06f83850-af1d-4da3-948c-bfda6f0f258e",
   "metadata": {},
   "outputs": [],
   "source": [
    "# Defines a function to use Multinomial Naive Bayes Classifier\n",
    "\n",
    "def MultinomialNBModel():\n",
    "    \n",
    "    global x_train, x_test, y_train, y_test\n",
    "    \n",
    "    # Create MNB Classifier & fit the data to it\n",
    "    mnb_classifier = MultinomialNB()\n",
    "    mnb_classifier = mnb_classifier.fit(x_train, y_train)\n",
    "    \n",
    "    # Make predictions based using Logistic Regression\n",
    "    mnb_prediction = mnb_classifier.predict(x_test)\n",
    "    \n",
    "    # Find the accuracy obtained\n",
    "    mnb_accuracy = round(Decimal(accuracy_score(y_test, mnb_prediction) * 100), 2)\n",
    "    \n",
    "    # Append accuracy to the global list\n",
    "    model_list.append(\"MNB\")\n",
    "    model_accuracy_without_cross_validation.append(mnb_accuracy)\n",
    "    \n",
    "    # Using cross validation with 5 splits \n",
    "    mnb_accuracies = cross_val_score(mnb_classifier, X, Y, cv=10)\n",
    "    \n",
    "    # Find the cross validation accuracy by taking mean over obtained accuracies\n",
    "    mnb_mean_accuracy = round(Decimal(mnb_accuracies.mean() * 100), 2)\n",
    "    model_accuracy_with_cross_validation.append(mnb_mean_accuracy)\n",
    "    \n",
    "    # Track the results\n",
    "    print(\"\\n----- MULTINOMIAL NAIVE BAYES -----\")\n",
    "    print(f\"Accuracy without cross validation: {mnb_accuracy}%\")\n",
    "    print(f\"Accuracy with cross validation: {mnb_mean_accuracy}%\")\n",
    "    print(\"\\nTop few rows of Classification Report: \")\n",
    "    classification_report_result = classification_report(y_test, mnb_prediction, output_dict=True)\n",
    "    dataframe = pd.DataFrame(classification_report_result).transpose()\n",
    "    print(dataframe.head().to_string())\n",
    "    #print(dataframe.to_string())\n",
    "    "
   ]
  },
  {
   "cell_type": "markdown",
   "id": "9e60dcbb-2598-49dc-bf9f-e5924e926416",
   "metadata": {},
   "source": [
    "### Functions to visualize the results"
   ]
  },
  {
   "cell_type": "code",
   "execution_count": 17,
   "id": "7f29acc6-be16-4150-bea3-44dc8c039490",
   "metadata": {},
   "outputs": [],
   "source": [
    "# Function to plot accuracies\n",
    "\n",
    "def VisualizeResults(title_str, accuracy_list, plt):\n",
    "    \n",
    "    # Set plot style & dimensions\n",
    "    plt.style.use(\"seaborn-poster\")\n",
    "    fig = plt.figure(figsize=(8, 6))\n",
    "    ax = fig.add_subplot()\n",
    "    \n",
    "    # Set title & labels\n",
    "    plt.title(title_str)\n",
    "    plt.xlabel(\"Classifier\")\n",
    "    plt.ylabel(\"% Accuracy\")\n",
    "    \n",
    "    # Plot the results\n",
    "    plt.bar(model_list, accuracy_list, color='green')\n",
    "    for i, j in enumerate(accuracy_list):\n",
    "        ax.text(float(i)-0.15, float(j)+0.7, str(j), color='blue')\n",
    "        \n",
    "    # Display the results\n",
    "    plt.show()\n",
    "    "
   ]
  },
  {
   "cell_type": "markdown",
   "id": "be2c38d1-bcdc-406a-aa6b-90f32eb88d2c",
   "metadata": {},
   "source": [
    "### Execution steps to build ML models & Visualize the results"
   ]
  },
  {
   "cell_type": "code",
   "execution_count": 11,
   "id": "7c607037-4aa1-4e00-b48f-d55c1e660f83",
   "metadata": {},
   "outputs": [
    {
     "name": "stdout",
     "output_type": "stream",
     "text": [
      "Running Logistic Regression...\n",
      "\n",
      "----- LOGISTIC REGRESSION -----\n",
      "Accuracy without cross validation: 93.46%\n",
      "Accuracy with cross validation: 93.56%\n",
      "\n",
      "Top few rows of the Classification Report: \n",
      "                                precision    recall  f1-score  support\n",
      "Abnormal uterine bleeding             0.5  1.000000  0.666667      1.0\n",
      "Abscess                               0.0  0.000000  0.000000      0.0\n",
      "Acute encephalitis syndrome           1.0  0.166667  0.285714      6.0\n",
      "Adult inclusion conjunctivitis        0.0  0.000000  0.000000      1.0\n",
      "Alcohol abuse and alcoholism          1.0  1.000000  1.000000      2.0\n"
     ]
    }
   ],
   "source": [
    "# Invoke functions associated with the ML models we considered\n",
    "# This step takes around 5 mins\n",
    "print(\"Running Logistic Regression...\")\n",
    "LogisticRegressionModel()\n"
   ]
  },
  {
   "cell_type": "code",
   "execution_count": 12,
   "id": "2f5edd5e-1b24-4693-b302-ca6d8d663cf7",
   "metadata": {},
   "outputs": [
    {
     "name": "stdout",
     "output_type": "stream",
     "text": [
      "Running Random Forest...\n",
      "\n",
      "----- RANDOM FOREST -----\n",
      "Accuracy without cross validation: 91.12%\n",
      "Accuracy with cross validation: 92.09%\n",
      "Top few rows of Classification Report: \n",
      "                                precision    recall  f1-score  support\n",
      "Abnormal uterine bleeding            0.50  1.000000  0.666667      1.0\n",
      "Abscess                              0.00  0.000000  0.000000      0.0\n",
      "Acute encephalitis syndrome          0.25  0.166667  0.200000      6.0\n",
      "Adult inclusion conjunctivitis       0.00  0.000000  0.000000      1.0\n",
      "Alcohol abuse and alcoholism         1.00  1.000000  1.000000      2.0\n"
     ]
    }
   ],
   "source": [
    "print(\"Running Random Forest...\")\n",
    "RandomForestModel()\n"
   ]
  },
  {
   "cell_type": "code",
   "execution_count": 13,
   "id": "b0d72a4f-5d2e-4cd6-9fbd-bd961c0b21c4",
   "metadata": {},
   "outputs": [
    {
     "name": "stdout",
     "output_type": "stream",
     "text": [
      "Running KNN model...\n",
      "\n",
      "----- KNN CLASSIFIER -----\n",
      "Accuracy without cross validation: 92.38%\n",
      "Accuracy with cross validation: 92.09%\n",
      "Top few rows of Classification Report: \n",
      "                                precision    recall  f1-score  support\n",
      "Abnormal uterine bleeding          0.5000  1.000000  0.666667      1.0\n",
      "Abscess                            0.0000  0.000000  0.000000      0.0\n",
      "Acute encephalitis syndrome        0.0625  0.166667  0.090909      6.0\n",
      "Adult inclusion conjunctivitis     1.0000  1.000000  1.000000      1.0\n",
      "Alcohol abuse and alcoholism       1.0000  1.000000  1.000000      2.0\n"
     ]
    }
   ],
   "source": [
    "print(\"Running KNN model...\")\n",
    "KnnModel()\n"
   ]
  },
  {
   "cell_type": "code",
   "execution_count": 14,
   "id": "5315c455-66fe-42d6-b3de-b7f973ff6889",
   "metadata": {},
   "outputs": [
    {
     "name": "stdout",
     "output_type": "stream",
     "text": [
      "Running Multinomial Naive Bayes...\n",
      "\n",
      "----- MULTINOMIAL NAIVE BAYES -----\n",
      "Accuracy without cross validation: 89.02%\n",
      "Accuracy with cross validation: 90.33%\n",
      "\n",
      "Top few rows of Classification Report: \n",
      "                                precision    recall  f1-score  support\n",
      "Abnormal uterine bleeding             1.0  1.000000  1.000000      1.0\n",
      "Acute encephalitis syndrome           0.0  0.000000  0.000000      6.0\n",
      "Adult inclusion conjunctivitis        0.0  0.000000  0.000000      1.0\n",
      "Alcohol abuse and alcoholism          1.0  1.000000  1.000000      2.0\n",
      "Alzheimer                             1.0  0.714286  0.833333      7.0\n"
     ]
    }
   ],
   "source": [
    "print(\"Running Multinomial Naive Bayes...\")\n",
    "MultinomialNBModel()\n"
   ]
  },
  {
   "cell_type": "code",
   "execution_count": 18,
   "id": "24c9feeb-bd20-4d6f-aaf8-9e1f81460a8a",
   "metadata": {},
   "outputs": [
    {
     "data": {
      "image/png": "[encoded data removed]",
      "text/plain": [
       "<Figure size 576x432 with 1 Axes>"
      ]
     },
     "metadata": {
      "needs_background": "light"
     },
     "output_type": "display_data"
    },
    {
     "data": {
      "image/png": "[encoded data removed]",
      "text/plain": [
       "<Figure size 576x432 with 1 Axes>"
      ]
     },
     "metadata": {
      "needs_background": "light"
     },
     "output_type": "display_data"
    }
   ],
   "source": [
    "# Obtain plots\n",
    "VisualizeResults(\"Model vs Accuracy\", model_accuracy_without_cross_validation, plt1)\n",
    "VisualizeResults(\"Model vs Cross-validation Accuracy\", model_accuracy_with_cross_validation, plt2)\n"
   ]
  }
 ],
 "metadata": {
  "kernelspec": {
   "display_name": "Python 3",
   "language": "python",
   "name": "python3"
  },
  "language_info": {
   "codemirror_mode": {
    "name": "ipython",
    "version": 3
   },
   "file_extension": ".py",
   "mimetype": "text/x-python",
   "name": "python",
   "nbconvert_exporter": "python",
   "pygments_lexer": "ipython3",
   "version": "3.8.8"
  }
 },
 "nbformat": 4,
 "nbformat_minor": 5
}
